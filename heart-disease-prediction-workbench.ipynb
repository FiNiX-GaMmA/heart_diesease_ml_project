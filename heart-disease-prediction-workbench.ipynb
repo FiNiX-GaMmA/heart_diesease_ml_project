{
 "cells": [
  {
   "cell_type": "markdown",
   "id": "ddcd1b88",
   "metadata": {
    "papermill": {
     "duration": 0.011393,
     "end_time": "2023-03-30T09:40:53.274148",
     "exception": false,
     "start_time": "2023-03-30T09:40:53.262755",
     "status": "completed"
    },
    "tags": []
   },
   "source": [
    "# A mchine learning project on **Heart Diseases**"
   ]
  },
  {
   "cell_type": "markdown",
   "id": "e8f32d62",
   "metadata": {
    "papermill": {
     "duration": 0.01033,
     "end_time": "2023-03-30T09:40:53.295389",
     "exception": false,
     "start_time": "2023-03-30T09:40:53.285059",
     "status": "completed"
    },
    "tags": []
   },
   "source": [
    "## This is my **3rd semester** final machine learning project on _Heart Disease classification_"
   ]
  },
  {
   "cell_type": "markdown",
   "id": "696115dd",
   "metadata": {
    "papermill": {
     "duration": 0.010093,
     "end_time": "2023-03-30T09:40:53.315708",
     "exception": false,
     "start_time": "2023-03-30T09:40:53.305615",
     "status": "completed"
    },
    "tags": []
   },
   "source": [
    "Context\n",
    "\n",
    "This data set dates from 1988 and consists of four databases: Cleveland, Hungary, Switzerland, and Long Beach V. It contains 76 attributes, including the predicted attribute, but all published experiments refer to using a subset of 14 of them. The \"target\" field refers to the presence of heart disease in the patient. It is integer valued 0 = no disease and 1 = disease."
   ]
  },
  {
   "cell_type": "markdown",
   "id": "04353572",
   "metadata": {
    "papermill": {
     "duration": 0.011134,
     "end_time": "2023-03-30T09:40:53.337188",
     "exception": false,
     "start_time": "2023-03-30T09:40:53.326054",
     "status": "completed"
    },
    "tags": []
   },
   "source": [
    "\n",
    "### Attributes\n",
    "- age\n",
    "- sex\n",
    "- chest pain type (4 values)\n",
    "- resting blood pressure\n",
    "- serum cholestoral in mg/dl\n",
    "- fasting blood sugar > 120 mg/dl\n",
    "- resting electrocardiographic results (values 0,1,2)\n",
    "- maximum heart rate achieved\n",
    "- exercise induced angina\n",
    "- oldpeak = ST depression induced by exercise relative to rest\n",
    "- the slope of the peak exercise ST segment\n",
    "  number of major vessels (0-3) colored by flourosopy\n",
    "- thal: 0 = normal; 1 = fixed defect; 2 = reversable defect\n",
    "\n",
    "The names and social security numbers of the patients were recently removed from the database, replaced with dummy values.\n",
    "\n"
   ]
  },
  {
   "cell_type": "code",
   "execution_count": 1,
   "id": "1873157a",
   "metadata": {
    "_cell_guid": "b1076dfc-b9ad-4769-8c92-a6c4dae69d19",
    "_uuid": "8f2839f25d086af736a60e9eeb907d3b93b6e0e5",
    "execution": {
     "iopub.execute_input": "2023-03-30T09:40:53.359721Z",
     "iopub.status.busy": "2023-03-30T09:40:53.359000Z",
     "iopub.status.idle": "2023-03-30T09:40:53.376514Z",
     "shell.execute_reply": "2023-03-30T09:40:53.374908Z"
    },
    "papermill": {
     "duration": 0.032054,
     "end_time": "2023-03-30T09:40:53.379414",
     "exception": false,
     "start_time": "2023-03-30T09:40:53.347360",
     "status": "completed"
    },
    "tags": []
   },
   "outputs": [
    {
     "name": "stdout",
     "output_type": "stream",
     "text": [
      "/kaggle/input/heart-disease-dataset/heart.csv\n"
     ]
    }
   ],
   "source": [
    "# This Python 3 environment comes with many helpful analytics libraries installed\n",
    "# It is defined by the kaggle/python Docker image: https://github.com/kaggle/docker-python\n",
    "# For example, here's several helpful packages to load\n",
    "\n",
    "import numpy as np # linear algebra\n",
    "import pandas as pd # data processing, CSV file I/O (e.g. pd.read_csv)\n",
    "\n",
    "# Input data files are available in the read-only \"../input/\" directory\n",
    "# For example, running this (by clicking run or pressing Shift+Enter) will list all files under the input directory\n",
    "\n",
    "import os\n",
    "for dirname, _, filenames in os.walk('/kaggle/input'):\n",
    "    for filename in filenames:\n",
    "        print(os.path.join(dirname, filename))\n",
    "\n",
    "# You can write up to 20GB to the current directory (/kaggle/working/) that gets preserved as output when you create a version using \"Save & Run All\" \n",
    "# You can also write temporary files to /kaggle/temp/, but they won't be saved outside of the current session"
   ]
  },
  {
   "cell_type": "code",
   "execution_count": 2,
   "id": "ecfed89b",
   "metadata": {
    "execution": {
     "iopub.execute_input": "2023-03-30T09:40:53.402920Z",
     "iopub.status.busy": "2023-03-30T09:40:53.401810Z",
     "iopub.status.idle": "2023-03-30T09:40:53.447187Z",
     "shell.execute_reply": "2023-03-30T09:40:53.445895Z"
    },
    "papermill": {
     "duration": 0.059664,
     "end_time": "2023-03-30T09:40:53.449835",
     "exception": false,
     "start_time": "2023-03-30T09:40:53.390171",
     "status": "completed"
    },
    "tags": []
   },
   "outputs": [
    {
     "data": {
      "text/html": [
       "<div>\n",
       "<style scoped>\n",
       "    .dataframe tbody tr th:only-of-type {\n",
       "        vertical-align: middle;\n",
       "    }\n",
       "\n",
       "    .dataframe tbody tr th {\n",
       "        vertical-align: top;\n",
       "    }\n",
       "\n",
       "    .dataframe thead th {\n",
       "        text-align: right;\n",
       "    }\n",
       "</style>\n",
       "<table border=\"1\" class=\"dataframe\">\n",
       "  <thead>\n",
       "    <tr style=\"text-align: right;\">\n",
       "      <th></th>\n",
       "      <th>age</th>\n",
       "      <th>sex</th>\n",
       "      <th>cp</th>\n",
       "      <th>trestbps</th>\n",
       "      <th>chol</th>\n",
       "      <th>fbs</th>\n",
       "      <th>restecg</th>\n",
       "      <th>thalach</th>\n",
       "      <th>exang</th>\n",
       "      <th>oldpeak</th>\n",
       "      <th>slope</th>\n",
       "      <th>ca</th>\n",
       "      <th>thal</th>\n",
       "      <th>target</th>\n",
       "    </tr>\n",
       "  </thead>\n",
       "  <tbody>\n",
       "    <tr>\n",
       "      <th>0</th>\n",
       "      <td>52</td>\n",
       "      <td>1</td>\n",
       "      <td>0</td>\n",
       "      <td>125</td>\n",
       "      <td>212</td>\n",
       "      <td>0</td>\n",
       "      <td>1</td>\n",
       "      <td>168</td>\n",
       "      <td>0</td>\n",
       "      <td>1.0</td>\n",
       "      <td>2</td>\n",
       "      <td>2</td>\n",
       "      <td>3</td>\n",
       "      <td>0</td>\n",
       "    </tr>\n",
       "    <tr>\n",
       "      <th>1</th>\n",
       "      <td>53</td>\n",
       "      <td>1</td>\n",
       "      <td>0</td>\n",
       "      <td>140</td>\n",
       "      <td>203</td>\n",
       "      <td>1</td>\n",
       "      <td>0</td>\n",
       "      <td>155</td>\n",
       "      <td>1</td>\n",
       "      <td>3.1</td>\n",
       "      <td>0</td>\n",
       "      <td>0</td>\n",
       "      <td>3</td>\n",
       "      <td>0</td>\n",
       "    </tr>\n",
       "    <tr>\n",
       "      <th>2</th>\n",
       "      <td>70</td>\n",
       "      <td>1</td>\n",
       "      <td>0</td>\n",
       "      <td>145</td>\n",
       "      <td>174</td>\n",
       "      <td>0</td>\n",
       "      <td>1</td>\n",
       "      <td>125</td>\n",
       "      <td>1</td>\n",
       "      <td>2.6</td>\n",
       "      <td>0</td>\n",
       "      <td>0</td>\n",
       "      <td>3</td>\n",
       "      <td>0</td>\n",
       "    </tr>\n",
       "    <tr>\n",
       "      <th>3</th>\n",
       "      <td>61</td>\n",
       "      <td>1</td>\n",
       "      <td>0</td>\n",
       "      <td>148</td>\n",
       "      <td>203</td>\n",
       "      <td>0</td>\n",
       "      <td>1</td>\n",
       "      <td>161</td>\n",
       "      <td>0</td>\n",
       "      <td>0.0</td>\n",
       "      <td>2</td>\n",
       "      <td>1</td>\n",
       "      <td>3</td>\n",
       "      <td>0</td>\n",
       "    </tr>\n",
       "    <tr>\n",
       "      <th>4</th>\n",
       "      <td>62</td>\n",
       "      <td>0</td>\n",
       "      <td>0</td>\n",
       "      <td>138</td>\n",
       "      <td>294</td>\n",
       "      <td>1</td>\n",
       "      <td>1</td>\n",
       "      <td>106</td>\n",
       "      <td>0</td>\n",
       "      <td>1.9</td>\n",
       "      <td>1</td>\n",
       "      <td>3</td>\n",
       "      <td>2</td>\n",
       "      <td>0</td>\n",
       "    </tr>\n",
       "  </tbody>\n",
       "</table>\n",
       "</div>"
      ],
      "text/plain": [
       "   age  sex  cp  trestbps  chol  fbs  restecg  thalach  exang  oldpeak  slope  \\\n",
       "0   52    1   0       125   212    0        1      168      0      1.0      2   \n",
       "1   53    1   0       140   203    1        0      155      1      3.1      0   \n",
       "2   70    1   0       145   174    0        1      125      1      2.6      0   \n",
       "3   61    1   0       148   203    0        1      161      0      0.0      2   \n",
       "4   62    0   0       138   294    1        1      106      0      1.9      1   \n",
       "\n",
       "   ca  thal  target  \n",
       "0   2     3       0  \n",
       "1   0     3       0  \n",
       "2   0     3       0  \n",
       "3   1     3       0  \n",
       "4   3     2       0  "
      ]
     },
     "execution_count": 2,
     "metadata": {},
     "output_type": "execute_result"
    }
   ],
   "source": [
    "data = pd.read_csv(r'/kaggle/input/heart-disease-dataset/heart.csv')\n",
    "data.head()"
   ]
  },
  {
   "cell_type": "code",
   "execution_count": 3,
   "id": "01bec7e4",
   "metadata": {
    "execution": {
     "iopub.execute_input": "2023-03-30T09:40:53.474141Z",
     "iopub.status.busy": "2023-03-30T09:40:53.473082Z",
     "iopub.status.idle": "2023-03-30T09:40:53.481294Z",
     "shell.execute_reply": "2023-03-30T09:40:53.480122Z"
    },
    "papermill": {
     "duration": 0.022816,
     "end_time": "2023-03-30T09:40:53.483889",
     "exception": false,
     "start_time": "2023-03-30T09:40:53.461073",
     "status": "completed"
    },
    "tags": []
   },
   "outputs": [
    {
     "data": {
      "text/plain": [
       "(1025, 14)"
      ]
     },
     "execution_count": 3,
     "metadata": {},
     "output_type": "execute_result"
    }
   ],
   "source": [
    "data.shape"
   ]
  },
  {
   "cell_type": "code",
   "execution_count": 4,
   "id": "2f744765",
   "metadata": {
    "execution": {
     "iopub.execute_input": "2023-03-30T09:40:53.507531Z",
     "iopub.status.busy": "2023-03-30T09:40:53.506523Z",
     "iopub.status.idle": "2023-03-30T09:40:53.532904Z",
     "shell.execute_reply": "2023-03-30T09:40:53.531567Z"
    },
    "papermill": {
     "duration": 0.04121,
     "end_time": "2023-03-30T09:40:53.535598",
     "exception": false,
     "start_time": "2023-03-30T09:40:53.494388",
     "status": "completed"
    },
    "tags": []
   },
   "outputs": [
    {
     "name": "stdout",
     "output_type": "stream",
     "text": [
      "<class 'pandas.core.frame.DataFrame'>\n",
      "RangeIndex: 1025 entries, 0 to 1024\n",
      "Data columns (total 14 columns):\n",
      " #   Column    Non-Null Count  Dtype  \n",
      "---  ------    --------------  -----  \n",
      " 0   age       1025 non-null   int64  \n",
      " 1   sex       1025 non-null   int64  \n",
      " 2   cp        1025 non-null   int64  \n",
      " 3   trestbps  1025 non-null   int64  \n",
      " 4   chol      1025 non-null   int64  \n",
      " 5   fbs       1025 non-null   int64  \n",
      " 6   restecg   1025 non-null   int64  \n",
      " 7   thalach   1025 non-null   int64  \n",
      " 8   exang     1025 non-null   int64  \n",
      " 9   oldpeak   1025 non-null   float64\n",
      " 10  slope     1025 non-null   int64  \n",
      " 11  ca        1025 non-null   int64  \n",
      " 12  thal      1025 non-null   int64  \n",
      " 13  target    1025 non-null   int64  \n",
      "dtypes: float64(1), int64(13)\n",
      "memory usage: 112.2 KB\n"
     ]
    }
   ],
   "source": [
    "data.info()"
   ]
  },
  {
   "cell_type": "code",
   "execution_count": 5,
   "id": "4866ba36",
   "metadata": {
    "execution": {
     "iopub.execute_input": "2023-03-30T09:40:53.559053Z",
     "iopub.status.busy": "2023-03-30T09:40:53.558624Z",
     "iopub.status.idle": "2023-03-30T09:40:53.613993Z",
     "shell.execute_reply": "2023-03-30T09:40:53.612782Z"
    },
    "papermill": {
     "duration": 0.070806,
     "end_time": "2023-03-30T09:40:53.617051",
     "exception": false,
     "start_time": "2023-03-30T09:40:53.546245",
     "status": "completed"
    },
    "tags": []
   },
   "outputs": [
    {
     "data": {
      "text/html": [
       "<div>\n",
       "<style scoped>\n",
       "    .dataframe tbody tr th:only-of-type {\n",
       "        vertical-align: middle;\n",
       "    }\n",
       "\n",
       "    .dataframe tbody tr th {\n",
       "        vertical-align: top;\n",
       "    }\n",
       "\n",
       "    .dataframe thead th {\n",
       "        text-align: right;\n",
       "    }\n",
       "</style>\n",
       "<table border=\"1\" class=\"dataframe\">\n",
       "  <thead>\n",
       "    <tr style=\"text-align: right;\">\n",
       "      <th></th>\n",
       "      <th>age</th>\n",
       "      <th>sex</th>\n",
       "      <th>cp</th>\n",
       "      <th>trestbps</th>\n",
       "      <th>chol</th>\n",
       "      <th>fbs</th>\n",
       "      <th>restecg</th>\n",
       "      <th>thalach</th>\n",
       "      <th>exang</th>\n",
       "      <th>oldpeak</th>\n",
       "      <th>slope</th>\n",
       "      <th>ca</th>\n",
       "      <th>thal</th>\n",
       "      <th>target</th>\n",
       "    </tr>\n",
       "  </thead>\n",
       "  <tbody>\n",
       "    <tr>\n",
       "      <th>count</th>\n",
       "      <td>1025.000000</td>\n",
       "      <td>1025.000000</td>\n",
       "      <td>1025.000000</td>\n",
       "      <td>1025.000000</td>\n",
       "      <td>1025.00000</td>\n",
       "      <td>1025.000000</td>\n",
       "      <td>1025.000000</td>\n",
       "      <td>1025.000000</td>\n",
       "      <td>1025.000000</td>\n",
       "      <td>1025.000000</td>\n",
       "      <td>1025.000000</td>\n",
       "      <td>1025.000000</td>\n",
       "      <td>1025.000000</td>\n",
       "      <td>1025.000000</td>\n",
       "    </tr>\n",
       "    <tr>\n",
       "      <th>mean</th>\n",
       "      <td>54.434146</td>\n",
       "      <td>0.695610</td>\n",
       "      <td>0.942439</td>\n",
       "      <td>131.611707</td>\n",
       "      <td>246.00000</td>\n",
       "      <td>0.149268</td>\n",
       "      <td>0.529756</td>\n",
       "      <td>149.114146</td>\n",
       "      <td>0.336585</td>\n",
       "      <td>1.071512</td>\n",
       "      <td>1.385366</td>\n",
       "      <td>0.754146</td>\n",
       "      <td>2.323902</td>\n",
       "      <td>0.513171</td>\n",
       "    </tr>\n",
       "    <tr>\n",
       "      <th>std</th>\n",
       "      <td>9.072290</td>\n",
       "      <td>0.460373</td>\n",
       "      <td>1.029641</td>\n",
       "      <td>17.516718</td>\n",
       "      <td>51.59251</td>\n",
       "      <td>0.356527</td>\n",
       "      <td>0.527878</td>\n",
       "      <td>23.005724</td>\n",
       "      <td>0.472772</td>\n",
       "      <td>1.175053</td>\n",
       "      <td>0.617755</td>\n",
       "      <td>1.030798</td>\n",
       "      <td>0.620660</td>\n",
       "      <td>0.500070</td>\n",
       "    </tr>\n",
       "    <tr>\n",
       "      <th>min</th>\n",
       "      <td>29.000000</td>\n",
       "      <td>0.000000</td>\n",
       "      <td>0.000000</td>\n",
       "      <td>94.000000</td>\n",
       "      <td>126.00000</td>\n",
       "      <td>0.000000</td>\n",
       "      <td>0.000000</td>\n",
       "      <td>71.000000</td>\n",
       "      <td>0.000000</td>\n",
       "      <td>0.000000</td>\n",
       "      <td>0.000000</td>\n",
       "      <td>0.000000</td>\n",
       "      <td>0.000000</td>\n",
       "      <td>0.000000</td>\n",
       "    </tr>\n",
       "    <tr>\n",
       "      <th>25%</th>\n",
       "      <td>48.000000</td>\n",
       "      <td>0.000000</td>\n",
       "      <td>0.000000</td>\n",
       "      <td>120.000000</td>\n",
       "      <td>211.00000</td>\n",
       "      <td>0.000000</td>\n",
       "      <td>0.000000</td>\n",
       "      <td>132.000000</td>\n",
       "      <td>0.000000</td>\n",
       "      <td>0.000000</td>\n",
       "      <td>1.000000</td>\n",
       "      <td>0.000000</td>\n",
       "      <td>2.000000</td>\n",
       "      <td>0.000000</td>\n",
       "    </tr>\n",
       "    <tr>\n",
       "      <th>50%</th>\n",
       "      <td>56.000000</td>\n",
       "      <td>1.000000</td>\n",
       "      <td>1.000000</td>\n",
       "      <td>130.000000</td>\n",
       "      <td>240.00000</td>\n",
       "      <td>0.000000</td>\n",
       "      <td>1.000000</td>\n",
       "      <td>152.000000</td>\n",
       "      <td>0.000000</td>\n",
       "      <td>0.800000</td>\n",
       "      <td>1.000000</td>\n",
       "      <td>0.000000</td>\n",
       "      <td>2.000000</td>\n",
       "      <td>1.000000</td>\n",
       "    </tr>\n",
       "    <tr>\n",
       "      <th>75%</th>\n",
       "      <td>61.000000</td>\n",
       "      <td>1.000000</td>\n",
       "      <td>2.000000</td>\n",
       "      <td>140.000000</td>\n",
       "      <td>275.00000</td>\n",
       "      <td>0.000000</td>\n",
       "      <td>1.000000</td>\n",
       "      <td>166.000000</td>\n",
       "      <td>1.000000</td>\n",
       "      <td>1.800000</td>\n",
       "      <td>2.000000</td>\n",
       "      <td>1.000000</td>\n",
       "      <td>3.000000</td>\n",
       "      <td>1.000000</td>\n",
       "    </tr>\n",
       "    <tr>\n",
       "      <th>max</th>\n",
       "      <td>77.000000</td>\n",
       "      <td>1.000000</td>\n",
       "      <td>3.000000</td>\n",
       "      <td>200.000000</td>\n",
       "      <td>564.00000</td>\n",
       "      <td>1.000000</td>\n",
       "      <td>2.000000</td>\n",
       "      <td>202.000000</td>\n",
       "      <td>1.000000</td>\n",
       "      <td>6.200000</td>\n",
       "      <td>2.000000</td>\n",
       "      <td>4.000000</td>\n",
       "      <td>3.000000</td>\n",
       "      <td>1.000000</td>\n",
       "    </tr>\n",
       "  </tbody>\n",
       "</table>\n",
       "</div>"
      ],
      "text/plain": [
       "               age          sex           cp     trestbps        chol  \\\n",
       "count  1025.000000  1025.000000  1025.000000  1025.000000  1025.00000   \n",
       "mean     54.434146     0.695610     0.942439   131.611707   246.00000   \n",
       "std       9.072290     0.460373     1.029641    17.516718    51.59251   \n",
       "min      29.000000     0.000000     0.000000    94.000000   126.00000   \n",
       "25%      48.000000     0.000000     0.000000   120.000000   211.00000   \n",
       "50%      56.000000     1.000000     1.000000   130.000000   240.00000   \n",
       "75%      61.000000     1.000000     2.000000   140.000000   275.00000   \n",
       "max      77.000000     1.000000     3.000000   200.000000   564.00000   \n",
       "\n",
       "               fbs      restecg      thalach        exang      oldpeak  \\\n",
       "count  1025.000000  1025.000000  1025.000000  1025.000000  1025.000000   \n",
       "mean      0.149268     0.529756   149.114146     0.336585     1.071512   \n",
       "std       0.356527     0.527878    23.005724     0.472772     1.175053   \n",
       "min       0.000000     0.000000    71.000000     0.000000     0.000000   \n",
       "25%       0.000000     0.000000   132.000000     0.000000     0.000000   \n",
       "50%       0.000000     1.000000   152.000000     0.000000     0.800000   \n",
       "75%       0.000000     1.000000   166.000000     1.000000     1.800000   \n",
       "max       1.000000     2.000000   202.000000     1.000000     6.200000   \n",
       "\n",
       "             slope           ca         thal       target  \n",
       "count  1025.000000  1025.000000  1025.000000  1025.000000  \n",
       "mean      1.385366     0.754146     2.323902     0.513171  \n",
       "std       0.617755     1.030798     0.620660     0.500070  \n",
       "min       0.000000     0.000000     0.000000     0.000000  \n",
       "25%       1.000000     0.000000     2.000000     0.000000  \n",
       "50%       1.000000     0.000000     2.000000     1.000000  \n",
       "75%       2.000000     1.000000     3.000000     1.000000  \n",
       "max       2.000000     4.000000     3.000000     1.000000  "
      ]
     },
     "execution_count": 5,
     "metadata": {},
     "output_type": "execute_result"
    }
   ],
   "source": [
    "data.describe()"
   ]
  },
  {
   "cell_type": "code",
   "execution_count": 6,
   "id": "0f632f40",
   "metadata": {
    "execution": {
     "iopub.execute_input": "2023-03-30T09:40:53.641711Z",
     "iopub.status.busy": "2023-03-30T09:40:53.641301Z",
     "iopub.status.idle": "2023-03-30T09:40:53.650632Z",
     "shell.execute_reply": "2023-03-30T09:40:53.649551Z"
    },
    "papermill": {
     "duration": 0.024915,
     "end_time": "2023-03-30T09:40:53.652996",
     "exception": false,
     "start_time": "2023-03-30T09:40:53.628081",
     "status": "completed"
    },
    "tags": []
   },
   "outputs": [
    {
     "data": {
      "text/plain": [
       "age         0\n",
       "sex         0\n",
       "cp          0\n",
       "trestbps    0\n",
       "chol        0\n",
       "fbs         0\n",
       "restecg     0\n",
       "thalach     0\n",
       "exang       0\n",
       "oldpeak     0\n",
       "slope       0\n",
       "ca          0\n",
       "thal        0\n",
       "target      0\n",
       "dtype: int64"
      ]
     },
     "execution_count": 6,
     "metadata": {},
     "output_type": "execute_result"
    }
   ],
   "source": [
    "data.isnull().sum()"
   ]
  },
  {
   "cell_type": "code",
   "execution_count": 7,
   "id": "f0dba656",
   "metadata": {
    "execution": {
     "iopub.execute_input": "2023-03-30T09:40:53.677218Z",
     "iopub.status.busy": "2023-03-30T09:40:53.676827Z",
     "iopub.status.idle": "2023-03-30T09:40:54.839719Z",
     "shell.execute_reply": "2023-03-30T09:40:54.838671Z"
    },
    "papermill": {
     "duration": 1.178563,
     "end_time": "2023-03-30T09:40:54.842630",
     "exception": false,
     "start_time": "2023-03-30T09:40:53.664067",
     "status": "completed"
    },
    "tags": []
   },
   "outputs": [],
   "source": [
    "import matplotlib.pyplot as plt\n",
    "import seaborn as sns"
   ]
  },
  {
   "cell_type": "code",
   "execution_count": 8,
   "id": "64782fa6",
   "metadata": {
    "execution": {
     "iopub.execute_input": "2023-03-30T09:40:54.867636Z",
     "iopub.status.busy": "2023-03-30T09:40:54.867201Z",
     "iopub.status.idle": "2023-03-30T09:40:55.151659Z",
     "shell.execute_reply": "2023-03-30T09:40:55.150306Z"
    },
    "papermill": {
     "duration": 0.301001,
     "end_time": "2023-03-30T09:40:55.154950",
     "exception": false,
     "start_time": "2023-03-30T09:40:54.853949",
     "status": "completed"
    },
    "tags": []
   },
   "outputs": [
    {
     "data": {
      "image/png": "[encoded data removed]",
      "text/plain": [
       "<Figure size 640x480 with 1 Axes>"
      ]
     },
     "metadata": {},
     "output_type": "display_data"
    }
   ],
   "source": [
    "data['age'].hist()\n",
    "plt.show()"
   ]
  },
  {
   "cell_type": "code",
   "execution_count": 9,
   "id": "cace3e50",
   "metadata": {
    "execution": {
     "iopub.execute_input": "2023-03-30T09:40:55.179643Z",
     "iopub.status.busy": "2023-03-30T09:40:55.179209Z",
     "iopub.status.idle": "2023-03-30T09:40:55.425673Z",
     "shell.execute_reply": "2023-03-30T09:40:55.424363Z"
    },
    "papermill": {
     "duration": 0.261865,
     "end_time": "2023-03-30T09:40:55.428475",
     "exception": false,
     "start_time": "2023-03-30T09:40:55.166610",
     "status": "completed"
    },
    "tags": []
   },
   "outputs": [
    {
     "data": {
      "text/plain": [
       "<AxesSubplot:>"
      ]
     },
     "execution_count": 9,
     "metadata": {},
     "output_type": "execute_result"
    },
    {
     "data": {
      "image/png": "[encoded data removed]",
      "text/plain": [
       "<Figure size 640x480 with 1 Axes>"
      ]
     },
     "metadata": {},
     "output_type": "display_data"
    }
   ],
   "source": [
    "data['trestbps'].hist()"
   ]
  },
  {
   "cell_type": "code",
   "execution_count": 10,
   "id": "06ee48de",
   "metadata": {
    "execution": {
     "iopub.execute_input": "2023-03-30T09:40:55.455334Z",
     "iopub.status.busy": "2023-03-30T09:40:55.454925Z",
     "iopub.status.idle": "2023-03-30T09:40:55.695558Z",
     "shell.execute_reply": "2023-03-30T09:40:55.694125Z"
    },
    "papermill": {
     "duration": 0.257159,
     "end_time": "2023-03-30T09:40:55.698276",
     "exception": false,
     "start_time": "2023-03-30T09:40:55.441117",
     "status": "completed"
    },
    "tags": []
   },
   "outputs": [
    {
     "data": {
      "text/plain": [
       "<AxesSubplot:>"
      ]
     },
     "execution_count": 10,
     "metadata": {},
     "output_type": "execute_result"
    },
    {
     "data": {
      "image/png": "[encoded data removed]",
      "text/plain": [
       "<Figure size 640x480 with 1 Axes>"
      ]
     },
     "metadata": {},
     "output_type": "display_data"
    }
   ],
   "source": [
    "data['chol'].hist()\n"
   ]
  },
  {
   "cell_type": "code",
   "execution_count": 11,
   "id": "ac4fbdd4",
   "metadata": {
    "execution": {
     "iopub.execute_input": "2023-03-30T09:40:55.725340Z",
     "iopub.status.busy": "2023-03-30T09:40:55.724896Z",
     "iopub.status.idle": "2023-03-30T09:40:55.976566Z",
     "shell.execute_reply": "2023-03-30T09:40:55.975206Z"
    },
    "papermill": {
     "duration": 0.268748,
     "end_time": "2023-03-30T09:40:55.979647",
     "exception": false,
     "start_time": "2023-03-30T09:40:55.710899",
     "status": "completed"
    },
    "tags": []
   },
   "outputs": [
    {
     "data": {
      "text/plain": [
       "<AxesSubplot:>"
      ]
     },
     "execution_count": 11,
     "metadata": {},
     "output_type": "execute_result"
    },
    {
     "data": {
      "image/png": "[encoded data removed]",
      "text/plain": [
       "<Figure size 640x480 with 1 Axes>"
      ]
     },
     "metadata": {},
     "output_type": "display_data"
    }
   ],
   "source": [
    "data['thalach'].hist()"
   ]
  },
  {
   "cell_type": "code",
   "execution_count": 12,
   "id": "dc796db8",
   "metadata": {
    "execution": {
     "iopub.execute_input": "2023-03-30T09:40:56.008024Z",
     "iopub.status.busy": "2023-03-30T09:40:56.007209Z",
     "iopub.status.idle": "2023-03-30T09:40:56.252907Z",
     "shell.execute_reply": "2023-03-30T09:40:56.251509Z"
    },
    "papermill": {
     "duration": 0.262833,
     "end_time": "2023-03-30T09:40:56.255556",
     "exception": false,
     "start_time": "2023-03-30T09:40:55.992723",
     "status": "completed"
    },
    "tags": []
   },
   "outputs": [
    {
     "data": {
      "text/plain": [
       "<AxesSubplot:>"
      ]
     },
     "execution_count": 12,
     "metadata": {},
     "output_type": "execute_result"
    },
    {
     "data": {
      "image/png": "[encoded data removed]",
      "text/plain": [
       "<Figure size 640x480 with 1 Axes>"
      ]
     },
     "metadata": {},
     "output_type": "display_data"
    }
   ],
   "source": [
    "data['oldpeak'].hist()"
   ]
  },
  {
   "cell_type": "code",
   "execution_count": 13,
   "id": "2ba63329",
   "metadata": {
    "execution": {
     "iopub.execute_input": "2023-03-30T09:40:56.284537Z",
     "iopub.status.busy": "2023-03-30T09:40:56.283837Z",
     "iopub.status.idle": "2023-03-30T09:40:56.722321Z",
     "shell.execute_reply": "2023-03-30T09:40:56.720717Z"
    },
    "papermill": {
     "duration": 0.456499,
     "end_time": "2023-03-30T09:40:56.725165",
     "exception": false,
     "start_time": "2023-03-30T09:40:56.268666",
     "status": "completed"
    },
    "tags": []
   },
   "outputs": [
    {
     "data": {
      "text/plain": [
       "<AxesSubplot:>"
      ]
     },
     "execution_count": 13,
     "metadata": {},
     "output_type": "execute_result"
    },
    {
     "data": {
      "image/png": "[encoded data removed]",
      "text/plain": [
       "<Figure size 640x480 with 2 Axes>"
      ]
     },
     "metadata": {},
     "output_type": "display_data"
    }
   ],
   "source": [
    "import seaborn as sns\n",
    "\n",
    "corr_matrix = data.corr()\n",
    "sns.heatmap(corr_matrix, annot=False)\n"
   ]
  },
  {
   "cell_type": "code",
   "execution_count": 14,
   "id": "4d44213d",
   "metadata": {
    "execution": {
     "iopub.execute_input": "2023-03-30T09:40:56.755124Z",
     "iopub.status.busy": "2023-03-30T09:40:56.754712Z",
     "iopub.status.idle": "2023-03-30T09:40:56.761388Z",
     "shell.execute_reply": "2023-03-30T09:40:56.760245Z"
    },
    "papermill": {
     "duration": 0.024841,
     "end_time": "2023-03-30T09:40:56.763826",
     "exception": false,
     "start_time": "2023-03-30T09:40:56.738985",
     "status": "completed"
    },
    "tags": []
   },
   "outputs": [],
   "source": [
    "# Define a function to detect outliers using the z-score method\n",
    "def detect_outliers_zscore(data, threshold=3):\n",
    "    \"\"\"\n",
    "    Detect outliers in a pandas dataframe using the z-score method.\n",
    "    \"\"\"\n",
    "    z_scores = np.abs((data - data.mean()) / data.std())\n",
    "    return z_scores > threshold\n"
   ]
  },
  {
   "cell_type": "markdown",
   "id": "dc791934",
   "metadata": {
    "papermill": {
     "duration": 0.013124,
     "end_time": "2023-03-30T09:40:56.790517",
     "exception": false,
     "start_time": "2023-03-30T09:40:56.777393",
     "status": "completed"
    },
    "tags": []
   },
   "source": [
    "I will be finding out the **outliers** for\n",
    "\n",
    "1. _Age_\n",
    "2. _Cholesterol_\n",
    "3. _Resting Blood Pressure_\n",
    "4. _Fasting Blood Sugar_\n",
    "5. _ST depression_\n",
    "6. _Maximum Heart Rate_\n",
    "\n",
    "\n",
    "And will be aiming to remove them"
   ]
  },
  {
   "cell_type": "code",
   "execution_count": 15,
   "id": "758f1e06",
   "metadata": {
    "execution": {
     "iopub.execute_input": "2023-03-30T09:40:56.819347Z",
     "iopub.status.busy": "2023-03-30T09:40:56.818934Z",
     "iopub.status.idle": "2023-03-30T09:40:56.827176Z",
     "shell.execute_reply": "2023-03-30T09:40:56.826228Z"
    },
    "papermill": {
     "duration": 0.025413,
     "end_time": "2023-03-30T09:40:56.829506",
     "exception": false,
     "start_time": "2023-03-30T09:40:56.804093",
     "status": "completed"
    },
    "tags": []
   },
   "outputs": [
    {
     "name": "stdout",
     "output_type": "stream",
     "text": [
      "Number of age outliers: 0\n"
     ]
    }
   ],
   "source": [
    "# Apply the outlier detection function to the age column\n",
    "outliers_age = detect_outliers_zscore(data['age'])\n",
    "\n",
    "# Print the number of outliers detected\n",
    "print(f\"Number of age outliers: {outliers_age.sum()}\")"
   ]
  },
  {
   "cell_type": "code",
   "execution_count": 16,
   "id": "e919c45b",
   "metadata": {
    "execution": {
     "iopub.execute_input": "2023-03-30T09:40:56.858895Z",
     "iopub.status.busy": "2023-03-30T09:40:56.858501Z",
     "iopub.status.idle": "2023-03-30T09:40:56.863895Z",
     "shell.execute_reply": "2023-03-30T09:40:56.862564Z"
    },
    "papermill": {
     "duration": 0.023269,
     "end_time": "2023-03-30T09:40:56.866407",
     "exception": false,
     "start_time": "2023-03-30T09:40:56.843138",
     "status": "completed"
    },
    "tags": []
   },
   "outputs": [],
   "source": [
    "import matplotlib.pyplot as plt"
   ]
  },
  {
   "cell_type": "code",
   "execution_count": 17,
   "id": "8a6a4f0e",
   "metadata": {
    "execution": {
     "iopub.execute_input": "2023-03-30T09:40:56.896002Z",
     "iopub.status.busy": "2023-03-30T09:40:56.894920Z",
     "iopub.status.idle": "2023-03-30T09:40:56.902427Z",
     "shell.execute_reply": "2023-03-30T09:40:56.901563Z"
    },
    "papermill": {
     "duration": 0.024834,
     "end_time": "2023-03-30T09:40:56.904836",
     "exception": false,
     "start_time": "2023-03-30T09:40:56.880002",
     "status": "completed"
    },
    "tags": []
   },
   "outputs": [
    {
     "name": "stdout",
     "output_type": "stream",
     "text": [
      "Number of age outliers: 13\n"
     ]
    }
   ],
   "source": [
    "# Apply the outlier detection function to the age column\n",
    "outliers_chol = detect_outliers_zscore(data['chol'])\n",
    "\n",
    "# Print the number of outliers detected\n",
    "print(f\"Number of age outliers: {outliers_chol.sum()}\")"
   ]
  },
  {
   "cell_type": "code",
   "execution_count": 18,
   "id": "c08bd66e",
   "metadata": {
    "execution": {
     "iopub.execute_input": "2023-03-30T09:40:56.934092Z",
     "iopub.status.busy": "2023-03-30T09:40:56.933636Z",
     "iopub.status.idle": "2023-03-30T09:40:57.117777Z",
     "shell.execute_reply": "2023-03-30T09:40:57.116503Z"
    },
    "papermill": {
     "duration": 0.202744,
     "end_time": "2023-03-30T09:40:57.121343",
     "exception": false,
     "start_time": "2023-03-30T09:40:56.918599",
     "status": "completed"
    },
    "tags": []
   },
   "outputs": [
    {
     "data": {
      "image/png": "[encoded data removed]",
      "text/plain": [
       "<Figure size 640x480 with 1 Axes>"
      ]
     },
     "metadata": {},
     "output_type": "display_data"
    }
   ],
   "source": [
    "# Create a boxplot of the \"Cholesterol\" column\n",
    "plt.boxplot(data['chol'])\n",
    "plt.title('Boxplot of Cholesterol')\n",
    "plt.ylabel('Cholesterol')\n",
    "plt.show()"
   ]
  },
  {
   "cell_type": "code",
   "execution_count": 19,
   "id": "3d64e16e",
   "metadata": {
    "execution": {
     "iopub.execute_input": "2023-03-30T09:40:57.173984Z",
     "iopub.status.busy": "2023-03-30T09:40:57.173582Z",
     "iopub.status.idle": "2023-03-30T09:40:57.184092Z",
     "shell.execute_reply": "2023-03-30T09:40:57.182586Z"
    },
    "papermill": {
     "duration": 0.044131,
     "end_time": "2023-03-30T09:40:57.187117",
     "exception": false,
     "start_time": "2023-03-30T09:40:57.142986",
     "status": "completed"
    },
    "tags": []
   },
   "outputs": [
    {
     "name": "stdout",
     "output_type": "stream",
     "text": [
      "Number of age outliers: 7\n"
     ]
    }
   ],
   "source": [
    "# Apply the outlier detection function to the Resting Blood Pressure column\n",
    "outliers_restbp = detect_outliers_zscore(data['trestbps'])\n",
    "\n",
    "# Print the number of outliers detected\n",
    "print(f\"Number of age outliers: {outliers_restbp.sum()}\")"
   ]
  },
  {
   "cell_type": "code",
   "execution_count": 20,
   "id": "393cfdd5",
   "metadata": {
    "execution": {
     "iopub.execute_input": "2023-03-30T09:40:57.222782Z",
     "iopub.status.busy": "2023-03-30T09:40:57.221304Z",
     "iopub.status.idle": "2023-03-30T09:40:57.424147Z",
     "shell.execute_reply": "2023-03-30T09:40:57.422876Z"
    },
    "papermill": {
     "duration": 0.222853,
     "end_time": "2023-03-30T09:40:57.427027",
     "exception": false,
     "start_time": "2023-03-30T09:40:57.204174",
     "status": "completed"
    },
    "tags": []
   },
   "outputs": [
    {
     "data": {
      "image/png": "[encoded data removed]",
      "text/plain": [
       "<Figure size 640x480 with 1 Axes>"
      ]
     },
     "metadata": {},
     "output_type": "display_data"
    }
   ],
   "source": [
    "# Create a boxplot of the \"resting BP\" column\n",
    "plt.boxplot(data['trestbps'])\n",
    "plt.title('Boxplot of Resting Blood Pressure')\n",
    "plt.ylabel('Resting Blood Pressure')\n",
    "plt.show()"
   ]
  },
  {
   "cell_type": "code",
   "execution_count": 21,
   "id": "091207ba",
   "metadata": {
    "execution": {
     "iopub.execute_input": "2023-03-30T09:40:57.460171Z",
     "iopub.status.busy": "2023-03-30T09:40:57.458860Z",
     "iopub.status.idle": "2023-03-30T09:40:57.468456Z",
     "shell.execute_reply": "2023-03-30T09:40:57.466709Z"
    },
    "papermill": {
     "duration": 0.028293,
     "end_time": "2023-03-30T09:40:57.470974",
     "exception": false,
     "start_time": "2023-03-30T09:40:57.442681",
     "status": "completed"
    },
    "tags": []
   },
   "outputs": [
    {
     "name": "stdout",
     "output_type": "stream",
     "text": [
      "Number of age outliers: 0\n"
     ]
    }
   ],
   "source": [
    "# Apply the outlier detection function to the age column\n",
    "outliers_blood_sugar = detect_outliers_zscore(data['fbs'])\n",
    "\n",
    "# Print the number of outliers detected\n",
    "print(f\"Number of age outliers: {outliers_blood_sugar.sum()}\")"
   ]
  },
  {
   "cell_type": "code",
   "execution_count": 22,
   "id": "5e28a31b",
   "metadata": {
    "execution": {
     "iopub.execute_input": "2023-03-30T09:40:57.503822Z",
     "iopub.status.busy": "2023-03-30T09:40:57.503003Z",
     "iopub.status.idle": "2023-03-30T09:40:57.513777Z",
     "shell.execute_reply": "2023-03-30T09:40:57.511314Z"
    },
    "papermill": {
     "duration": 0.03135,
     "end_time": "2023-03-30T09:40:57.517258",
     "exception": false,
     "start_time": "2023-03-30T09:40:57.485908",
     "status": "completed"
    },
    "tags": []
   },
   "outputs": [
    {
     "name": "stdout",
     "output_type": "stream",
     "text": [
      "Number of age outliers: 7\n"
     ]
    }
   ],
   "source": [
    "# Apply the outlier detection function to the age column\n",
    "outliers_St_depression = detect_outliers_zscore(data['oldpeak'])\n",
    "\n",
    "# Print the number of outliers detected\n",
    "print(f\"Number of age outliers: {outliers_St_depression.sum()}\")"
   ]
  },
  {
   "cell_type": "code",
   "execution_count": 23,
   "id": "5bc34e33",
   "metadata": {
    "execution": {
     "iopub.execute_input": "2023-03-30T09:40:57.560718Z",
     "iopub.status.busy": "2023-03-30T09:40:57.559798Z",
     "iopub.status.idle": "2023-03-30T09:40:57.755151Z",
     "shell.execute_reply": "2023-03-30T09:40:57.753592Z"
    },
    "papermill": {
     "duration": 0.218097,
     "end_time": "2023-03-30T09:40:57.758396",
     "exception": false,
     "start_time": "2023-03-30T09:40:57.540299",
     "status": "completed"
    },
    "tags": []
   },
   "outputs": [
    {
     "data": {
      "image/png": "[encoded data removed]",
      "text/plain": [
       "<Figure size 640x480 with 1 Axes>"
      ]
     },
     "metadata": {},
     "output_type": "display_data"
    }
   ],
   "source": [
    "# Create a boxplot of the \"ST depression\" column\n",
    "plt.boxplot(data['oldpeak'])\n",
    "plt.title('Boxplot of ST Depression')\n",
    "plt.ylabel('ST Depression')\n",
    "plt.show()"
   ]
  },
  {
   "cell_type": "code",
   "execution_count": 24,
   "id": "e205711b",
   "metadata": {
    "execution": {
     "iopub.execute_input": "2023-03-30T09:40:57.791650Z",
     "iopub.status.busy": "2023-03-30T09:40:57.791104Z",
     "iopub.status.idle": "2023-03-30T09:40:57.801285Z",
     "shell.execute_reply": "2023-03-30T09:40:57.799533Z"
    },
    "papermill": {
     "duration": 0.030394,
     "end_time": "2023-03-30T09:40:57.804350",
     "exception": false,
     "start_time": "2023-03-30T09:40:57.773956",
     "status": "completed"
    },
    "tags": []
   },
   "outputs": [
    {
     "name": "stdout",
     "output_type": "stream",
     "text": [
      "Number of age outliers: 4\n"
     ]
    }
   ],
   "source": [
    "# Apply the outlier detection function to the thalach column\n",
    "outliers_max_heartrate = detect_outliers_zscore(data['thalach'])\n",
    "\n",
    "# Print the number of outliers detected\n",
    "print(f\"Number of age outliers: {outliers_max_heartrate.sum()}\")"
   ]
  },
  {
   "cell_type": "code",
   "execution_count": 25,
   "id": "e627bc38",
   "metadata": {
    "execution": {
     "iopub.execute_input": "2023-03-30T09:40:57.843417Z",
     "iopub.status.busy": "2023-03-30T09:40:57.842533Z",
     "iopub.status.idle": "2023-03-30T09:40:58.035421Z",
     "shell.execute_reply": "2023-03-30T09:40:58.034504Z"
    },
    "papermill": {
     "duration": 0.212797,
     "end_time": "2023-03-30T09:40:58.038040",
     "exception": false,
     "start_time": "2023-03-30T09:40:57.825243",
     "status": "completed"
    },
    "tags": []
   },
   "outputs": [
    {
     "data": {
      "image/png": "[encoded data removed]",
      "text/plain": [
       "<Figure size 640x480 with 1 Axes>"
      ]
     },
     "metadata": {},
     "output_type": "display_data"
    }
   ],
   "source": [
    "# Create a boxplot of the \"thalach\" column\n",
    "plt.boxplot(data['thalach'])\n",
    "plt.title('Boxplot of maximum Heart Rate')\n",
    "plt.ylabel('Maximum HeartRate')\n",
    "plt.show()"
   ]
  },
  {
   "cell_type": "markdown",
   "id": "43a96a61",
   "metadata": {
    "papermill": {
     "duration": 0.015636,
     "end_time": "2023-03-30T09:40:58.068956",
     "exception": false,
     "start_time": "2023-03-30T09:40:58.053320",
     "status": "completed"
    },
    "tags": []
   },
   "source": [
    "Outliers are present in\n",
    "- Cholesterol\n",
    "- Resting Blood Pressure\n",
    "- ST depression\n",
    "- Maximum HeartRate"
   ]
  },
  {
   "cell_type": "code",
   "execution_count": 26,
   "id": "029a112b",
   "metadata": {
    "execution": {
     "iopub.execute_input": "2023-03-30T09:40:58.102513Z",
     "iopub.status.busy": "2023-03-30T09:40:58.101350Z",
     "iopub.status.idle": "2023-03-30T09:40:58.117075Z",
     "shell.execute_reply": "2023-03-30T09:40:58.115794Z"
    },
    "papermill": {
     "duration": 0.035738,
     "end_time": "2023-03-30T09:40:58.120099",
     "exception": false,
     "start_time": "2023-03-30T09:40:58.084361",
     "status": "completed"
    },
    "tags": []
   },
   "outputs": [],
   "source": [
    "from scipy import stats\n",
    "import pandas as pd\n",
    "import numpy as np\n",
    "\n",
    "# Load the dataset\n",
    "data_outlier = pd.read_csv('/kaggle/input/heart-disease-dataset/heart.csv')\n",
    "\n",
    "# Calculate the z-score for each data point in the \"Cholesterol\" column\n",
    "z_scores = stats.zscore(data_outlier['chol'])\n",
    "\n",
    "# Define a threshold for outliers (e.g., 3 standard deviations away from the mean)\n",
    "threshold = 2.5\n",
    "\n",
    "# Find the data points that have a z-score beyond the threshold\n",
    "outliers_cholesterol = np.where(np.abs(z_scores) > threshold)\n",
    "\n",
    "# Remove the outliers from the dataset\n",
    "data_outlier = data_outlier.drop(outliers_cholesterol[0])\n"
   ]
  },
  {
   "cell_type": "code",
   "execution_count": 27,
   "id": "665421ff",
   "metadata": {
    "execution": {
     "iopub.execute_input": "2023-03-30T09:40:58.154834Z",
     "iopub.status.busy": "2023-03-30T09:40:58.154032Z",
     "iopub.status.idle": "2023-03-30T09:40:58.162891Z",
     "shell.execute_reply": "2023-03-30T09:40:58.161451Z"
    },
    "papermill": {
     "duration": 0.029252,
     "end_time": "2023-03-30T09:40:58.165365",
     "exception": false,
     "start_time": "2023-03-30T09:40:58.136113",
     "status": "completed"
    },
    "tags": []
   },
   "outputs": [
    {
     "name": "stdout",
     "output_type": "stream",
     "text": [
      "Number of age outliers: 13\n"
     ]
    }
   ],
   "source": [
    "# Apply the outlier detection function to the age column\n",
    "outliers_chol = detect_outliers_zscore(data['chol'])\n",
    "\n",
    "# Print the number of outliers detected\n",
    "print(f\"Number of age outliers: {outliers_chol.sum()}\")"
   ]
  },
  {
   "cell_type": "code",
   "execution_count": 28,
   "id": "3739bf20",
   "metadata": {
    "execution": {
     "iopub.execute_input": "2023-03-30T09:40:58.199120Z",
     "iopub.status.busy": "2023-03-30T09:40:58.198361Z",
     "iopub.status.idle": "2023-03-30T09:40:58.208027Z",
     "shell.execute_reply": "2023-03-30T09:40:58.206889Z"
    },
    "papermill": {
     "duration": 0.02997,
     "end_time": "2023-03-30T09:40:58.210784",
     "exception": false,
     "start_time": "2023-03-30T09:40:58.180814",
     "status": "completed"
    },
    "tags": []
   },
   "outputs": [
    {
     "name": "stdout",
     "output_type": "stream",
     "text": [
      "Number of age outliers: 0\n"
     ]
    }
   ],
   "source": [
    "# Apply the outlier detection function to the age column\n",
    "outliers_chol = detect_outliers_zscore(data_outlier['chol'])\n",
    "\n",
    "# Print the number of outliers detected\n",
    "print(f\"Number of age outliers: {outliers_chol.sum()}\")"
   ]
  },
  {
   "cell_type": "code",
   "execution_count": 29,
   "id": "3a255d8e",
   "metadata": {
    "execution": {
     "iopub.execute_input": "2023-03-30T09:40:58.245597Z",
     "iopub.status.busy": "2023-03-30T09:40:58.244978Z",
     "iopub.status.idle": "2023-03-30T09:40:58.432380Z",
     "shell.execute_reply": "2023-03-30T09:40:58.430958Z"
    },
    "papermill": {
     "duration": 0.208176,
     "end_time": "2023-03-30T09:40:58.435316",
     "exception": false,
     "start_time": "2023-03-30T09:40:58.227140",
     "status": "completed"
    },
    "tags": []
   },
   "outputs": [
    {
     "data": {
      "image/png": "[encoded data removed]",
      "text/plain": [
       "<Figure size 640x480 with 1 Axes>"
      ]
     },
     "metadata": {},
     "output_type": "display_data"
    }
   ],
   "source": [
    "# Create a boxplot of the \"chol\" column in the rmoved outlier part\n",
    "plt.boxplot(data_outlier['chol'])\n",
    "plt.title('Boxplot of Cholesterol')\n",
    "plt.ylabel('Cholesterol')\n",
    "plt.show()"
   ]
  },
  {
   "cell_type": "markdown",
   "id": "cfb03157",
   "metadata": {
    "papermill": {
     "duration": 0.01912,
     "end_time": "2023-03-30T09:40:58.471962",
     "exception": false,
     "start_time": "2023-03-30T09:40:58.452842",
     "status": "completed"
    },
    "tags": []
   },
   "source": [
    "I used the threshold value as 3 while searching for the outliers where as i have to use the threshold value of 2.5 whole removing them"
   ]
  },
  {
   "cell_type": "code",
   "execution_count": 30,
   "id": "2913f9b7",
   "metadata": {
    "execution": {
     "iopub.execute_input": "2023-03-30T09:40:58.509688Z",
     "iopub.status.busy": "2023-03-30T09:40:58.507869Z",
     "iopub.status.idle": "2023-03-30T09:40:58.523822Z",
     "shell.execute_reply": "2023-03-30T09:40:58.522690Z"
    },
    "papermill": {
     "duration": 0.038299,
     "end_time": "2023-03-30T09:40:58.526443",
     "exception": false,
     "start_time": "2023-03-30T09:40:58.488144",
     "status": "completed"
    },
    "tags": []
   },
   "outputs": [],
   "source": [
    "# Calculate the IQR for the \"Resting Blood Pressure\" column\n",
    "q1 = data_outlier['trestbps'].quantile(0.25)\n",
    "q3 = data_outlier['trestbps'].quantile(0.75)\n",
    "iqr = q3 - q1\n",
    "\n",
    "# Define a range for outliers (e.g., 1.5 times the IQR below the 25th percentile or above the 75th percentile)\n",
    "lower_bound = q1 - 1.5*iqr\n",
    "upper_bound = q3 + 1.5*iqr\n",
    "\n",
    "# Find the data points that fall outside the range\n",
    "outliers = data_outlier[(data_outlier['trestbps'] < lower_bound) | (data_outlier['trestbps'] > upper_bound)]\n",
    "\n",
    "# Remove the outliers from the dataset\n",
    "data_outlier = data_outlier.drop(outliers.index)\n"
   ]
  },
  {
   "cell_type": "code",
   "execution_count": 31,
   "id": "17d07167",
   "metadata": {
    "execution": {
     "iopub.execute_input": "2023-03-30T09:40:58.562287Z",
     "iopub.status.busy": "2023-03-30T09:40:58.560078Z",
     "iopub.status.idle": "2023-03-30T09:40:58.756975Z",
     "shell.execute_reply": "2023-03-30T09:40:58.755563Z"
    },
    "papermill": {
     "duration": 0.217073,
     "end_time": "2023-03-30T09:40:58.759647",
     "exception": false,
     "start_time": "2023-03-30T09:40:58.542574",
     "status": "completed"
    },
    "tags": []
   },
   "outputs": [
    {
     "data": {
      "image/png": "[encoded data removed]",
      "text/plain": [
       "<Figure size 640x480 with 1 Axes>"
      ]
     },
     "metadata": {},
     "output_type": "display_data"
    }
   ],
   "source": [
    "# Create a boxplot of the \"chol\" column in the rmoved outlier part\n",
    "plt.boxplot(data_outlier['trestbps'])\n",
    "plt.title('Boxplot of Resting Blood Pressure')\n",
    "plt.ylabel('Resting Blood Pressure')\n",
    "plt.show()"
   ]
  },
  {
   "cell_type": "markdown",
   "id": "a2b16558",
   "metadata": {
    "papermill": {
     "duration": 0.015789,
     "end_time": "2023-03-30T09:40:58.791687",
     "exception": false,
     "start_time": "2023-03-30T09:40:58.775898",
     "status": "completed"
    },
    "tags": []
   },
   "source": [
    "## Now stsarting with creating the model\n",
    "\n",
    "using the sklearn model"
   ]
  },
  {
   "cell_type": "code",
   "execution_count": 32,
   "id": "50ab92f8",
   "metadata": {
    "execution": {
     "iopub.execute_input": "2023-03-30T09:40:58.826127Z",
     "iopub.status.busy": "2023-03-30T09:40:58.825723Z",
     "iopub.status.idle": "2023-03-30T09:40:59.064892Z",
     "shell.execute_reply": "2023-03-30T09:40:59.063741Z"
    },
    "papermill": {
     "duration": 0.260013,
     "end_time": "2023-03-30T09:40:59.067810",
     "exception": false,
     "start_time": "2023-03-30T09:40:58.807797",
     "status": "completed"
    },
    "tags": []
   },
   "outputs": [],
   "source": [
    "from sklearn.model_selection import train_test_split\n",
    "\n",
    "X = data.drop('target', axis=1)\n",
    "y = data['target']\n",
    "X_train, X_test, y_train, y_test = train_test_split(X, y, test_size=0.2, random_state=42)\n"
   ]
  },
  {
   "cell_type": "code",
   "execution_count": 33,
   "id": "69a52aa1",
   "metadata": {
    "execution": {
     "iopub.execute_input": "2023-03-30T09:40:59.102128Z",
     "iopub.status.busy": "2023-03-30T09:40:59.101280Z",
     "iopub.status.idle": "2023-03-30T09:40:59.114369Z",
     "shell.execute_reply": "2023-03-30T09:40:59.113375Z"
    },
    "papermill": {
     "duration": 0.032869,
     "end_time": "2023-03-30T09:40:59.116843",
     "exception": false,
     "start_time": "2023-03-30T09:40:59.083974",
     "status": "completed"
    },
    "tags": []
   },
   "outputs": [],
   "source": [
    "from sklearn.preprocessing import StandardScaler\n",
    "\n",
    "scaler = StandardScaler()\n",
    "X_train = scaler.fit_transform(X_train)\n",
    "X_test = scaler.transform(X_test)\n"
   ]
  },
  {
   "cell_type": "code",
   "execution_count": 34,
   "id": "4c5af7d6",
   "metadata": {
    "execution": {
     "iopub.execute_input": "2023-03-30T09:40:59.150746Z",
     "iopub.status.busy": "2023-03-30T09:40:59.150317Z",
     "iopub.status.idle": "2023-03-30T09:40:59.464229Z",
     "shell.execute_reply": "2023-03-30T09:40:59.462984Z"
    },
    "papermill": {
     "duration": 0.333905,
     "end_time": "2023-03-30T09:40:59.466918",
     "exception": false,
     "start_time": "2023-03-30T09:40:59.133013",
     "status": "completed"
    },
    "tags": []
   },
   "outputs": [
    {
     "data": {
      "text/plain": [
       "LogisticRegression(random_state=42)"
      ]
     },
     "execution_count": 34,
     "metadata": {},
     "output_type": "execute_result"
    }
   ],
   "source": [
    "from sklearn.linear_model import LogisticRegression\n",
    "\n",
    "model = LogisticRegression(random_state=42)\n",
    "model.fit(X_train, y_train)\n"
   ]
  },
  {
   "cell_type": "code",
   "execution_count": 35,
   "id": "67e57a96",
   "metadata": {
    "execution": {
     "iopub.execute_input": "2023-03-30T09:40:59.502581Z",
     "iopub.status.busy": "2023-03-30T09:40:59.501232Z",
     "iopub.status.idle": "2023-03-30T09:40:59.513981Z",
     "shell.execute_reply": "2023-03-30T09:40:59.512391Z"
    },
    "papermill": {
     "duration": 0.033614,
     "end_time": "2023-03-30T09:40:59.516879",
     "exception": false,
     "start_time": "2023-03-30T09:40:59.483265",
     "status": "completed"
    },
    "tags": []
   },
   "outputs": [
    {
     "name": "stdout",
     "output_type": "stream",
     "text": [
      "Accuracy: 0.7951219512195122\n",
      "Precision: 0.7563025210084033\n",
      "Recall: 0.8737864077669902\n",
      "F1-score: 0.8108108108108107\n"
     ]
    }
   ],
   "source": [
    "from sklearn.metrics import accuracy_score, precision_score, recall_score, f1_score\n",
    "\n",
    "y_pred = model.predict(X_test)\n",
    "print('Accuracy:', accuracy_score(y_test, y_pred))\n",
    "print('Precision:', precision_score(y_test, y_pred))\n",
    "print('Recall:', recall_score(y_test, y_pred))\n",
    "print('F1-score:', f1_score(y_test, y_pred))\n"
   ]
  },
  {
   "cell_type": "markdown",
   "id": "09e435aa",
   "metadata": {
    "papermill": {
     "duration": 0.015888,
     "end_time": "2023-03-30T09:40:59.549112",
     "exception": false,
     "start_time": "2023-03-30T09:40:59.533224",
     "status": "completed"
    },
    "tags": []
   },
   "source": [
    "## Using the famous model algorithms"
   ]
  },
  {
   "cell_type": "code",
   "execution_count": 36,
   "id": "721c4d88",
   "metadata": {
    "execution": {
     "iopub.execute_input": "2023-03-30T09:40:59.584019Z",
     "iopub.status.busy": "2023-03-30T09:40:59.582983Z",
     "iopub.status.idle": "2023-03-30T09:41:00.373874Z",
     "shell.execute_reply": "2023-03-30T09:41:00.372457Z"
    },
    "papermill": {
     "duration": 0.81122,
     "end_time": "2023-03-30T09:41:00.376583",
     "exception": false,
     "start_time": "2023-03-30T09:40:59.565363",
     "status": "completed"
    },
    "tags": []
   },
   "outputs": [
    {
     "name": "stdout",
     "output_type": "stream",
     "text": [
      "LogisticRegression\n",
      "Accuracy: 0.7951219512195122\n",
      "Precision: 0.7563025210084033\n",
      "Recall: 0.8737864077669902\n",
      "F1-score: 0.8108108108108107\n",
      "\n",
      "DecisionTreeClassifier\n",
      "Accuracy: 0.9853658536585366\n",
      "Precision: 1.0\n",
      "Recall: 0.970873786407767\n",
      "F1-score: 0.9852216748768473\n",
      "\n",
      "RandomForestClassifier\n",
      "Accuracy: 0.9853658536585366\n",
      "Precision: 1.0\n",
      "Recall: 0.970873786407767\n",
      "F1-score: 0.9852216748768473\n",
      "\n",
      "SVC\n",
      "Accuracy: 0.8878048780487805\n",
      "Precision: 0.8508771929824561\n",
      "Recall: 0.941747572815534\n",
      "F1-score: 0.8940092165898617\n",
      "\n",
      "KNeighborsClassifier\n",
      "Accuracy: 0.8341463414634146\n",
      "Precision: 0.8\n",
      "Recall: 0.8932038834951457\n",
      "F1-score: 0.8440366972477065\n",
      "\n",
      "GaussianNB\n",
      "Accuracy: 0.8\n",
      "Precision: 0.7540983606557377\n",
      "Recall: 0.8932038834951457\n",
      "F1-score: 0.8177777777777777\n",
      "\n",
      "GradientBoostingClassifier\n",
      "Accuracy: 0.9317073170731708\n",
      "Precision: 0.9158878504672897\n",
      "Recall: 0.9514563106796117\n",
      "F1-score: 0.9333333333333335\n",
      "\n"
     ]
    }
   ],
   "source": [
    "from sklearn.linear_model import LogisticRegression\n",
    "from sklearn.tree import DecisionTreeClassifier\n",
    "from sklearn.ensemble import RandomForestClassifier, GradientBoostingClassifier\n",
    "from sklearn.svm import SVC\n",
    "from sklearn.neighbors import KNeighborsClassifier\n",
    "from sklearn.naive_bayes import GaussianNB\n",
    "\n",
    "# Define the models\n",
    "models = [\n",
    "    LogisticRegression(random_state=42),\n",
    "    DecisionTreeClassifier(random_state=42),\n",
    "    RandomForestClassifier(random_state=42),\n",
    "    SVC(random_state=42),\n",
    "    KNeighborsClassifier(),\n",
    "    GaussianNB(),\n",
    "    GradientBoostingClassifier(random_state=42)\n",
    "]\n",
    "\n",
    "# Train and evaluate each model\n",
    "for model in models:\n",
    "    model.fit(X_train, y_train)\n",
    "    y_pred = model.predict(X_test)\n",
    "    print(type(model).__name__)\n",
    "    print('Accuracy:', accuracy_score(y_test, y_pred))\n",
    "    print('Precision:', precision_score(y_test, y_pred))\n",
    "    print('Recall:', recall_score(y_test, y_pred))\n",
    "    print('F1-score:', f1_score(y_test, y_pred))\n",
    "    print()\n"
   ]
  },
  {
   "cell_type": "code",
   "execution_count": null,
   "id": "bd964ef4",
   "metadata": {
    "papermill": {
     "duration": 0.016333,
     "end_time": "2023-03-30T09:41:00.409699",
     "exception": false,
     "start_time": "2023-03-30T09:41:00.393366",
     "status": "completed"
    },
    "tags": []
   },
   "outputs": [],
   "source": []
  }
 ],
 "metadata": {
  "kernelspec": {
   "display_name": "Python 3",
   "language": "python",
   "name": "python3"
  },
  "language_info": {
   "codemirror_mode": {
    "name": "ipython",
    "version": 3
   },
   "file_extension": ".py",
   "mimetype": "text/x-python",
   "name": "python",
   "nbconvert_exporter": "python",
   "pygments_lexer": "ipython3",
   "version": "3.7.12"
  },
  "papermill": {
   "default_parameters": {},
   "duration": 18.627859,
   "end_time": "2023-03-30T09:41:01.249391",
   "environment_variables": {},
   "exception": null,
   "input_path": "__notebook__.ipynb",
   "output_path": "__notebook__.ipynb",
   "parameters": {},
   "start_time": "2023-03-30T09:40:42.621532",
   "version": "2.4.0"
  }
 },
 "nbformat": 4,
 "nbformat_minor": 5
}
