{
 "cells": [
  {
   "cell_type": "markdown",
   "id": "fc234f2c",
   "metadata": {
    "papermill": {
     "duration": 0.00721,
     "end_time": "2023-03-28T05:03:14.552600",
     "exception": false,
     "start_time": "2023-03-28T05:03:14.545390",
     "status": "completed"
    },
    "tags": []
   },
   "source": [
    "# A mchine learning project on **Heart Diseases**"
   ]
  },
  {
   "cell_type": "markdown",
   "id": "9f9fa44b",
   "metadata": {
    "papermill": {
     "duration": 0.005532,
     "end_time": "2023-03-28T05:03:14.564313",
     "exception": false,
     "start_time": "2023-03-28T05:03:14.558781",
     "status": "completed"
    },
    "tags": []
   },
   "source": [
    "## This is my **3rd semester** final machine learning project on _Heart Disease classification_"
   ]
  },
  {
   "cell_type": "markdown",
   "id": "2ffb5746",
   "metadata": {
    "papermill": {
     "duration": 0.005462,
     "end_time": "2023-03-28T05:03:14.575632",
     "exception": false,
     "start_time": "2023-03-28T05:03:14.570170",
     "status": "completed"
    },
    "tags": []
   },
   "source": [
    "Context\n",
    "\n",
    "This data set dates from 1988 and consists of four databases: Cleveland, Hungary, Switzerland, and Long Beach V. It contains 76 attributes, including the predicted attribute, but all published experiments refer to using a subset of 14 of them. The \"target\" field refers to the presence of heart disease in the patient. It is integer valued 0 = no disease and 1 = disease."
   ]
  },
  {
   "cell_type": "markdown",
   "id": "2fa34dc3",
   "metadata": {
    "papermill": {
     "duration": 0.005487,
     "end_time": "2023-03-28T05:03:14.586897",
     "exception": false,
     "start_time": "2023-03-28T05:03:14.581410",
     "status": "completed"
    },
    "tags": []
   },
   "source": [
    "\n",
    "### Attributes\n",
    "- age\n",
    "- sex\n",
    "- chest pain type (4 values)\n",
    "- resting blood pressure\n",
    "- serum cholestoral in mg/dl\n",
    "- fasting blood sugar > 120 mg/dl\n",
    "- resting electrocardiographic results (values 0,1,2)\n",
    "- maximum heart rate achieved\n",
    "- exercise induced angina\n",
    "- oldpeak = ST depression induced by exercise relative to rest\n",
    "- the slope of the peak exercise ST segment\n",
    "  number of major vessels (0-3) colored by flourosopy\n",
    "- thal: 0 = normal; 1 = fixed defect; 2 = reversable defect\n",
    "\n",
    "The names and social security numbers of the patients were recently removed from the database, replaced with dummy values.\n",
    "\n"
   ]
  },
  {
   "cell_type": "code",
   "execution_count": 1,
   "id": "4f9e4be4",
   "metadata": {
    "_cell_guid": "b1076dfc-b9ad-4769-8c92-a6c4dae69d19",
    "_uuid": "8f2839f25d086af736a60e9eeb907d3b93b6e0e5",
    "execution": {
     "iopub.execute_input": "2023-03-28T05:03:14.601170Z",
     "iopub.status.busy": "2023-03-28T05:03:14.600225Z",
     "iopub.status.idle": "2023-03-28T05:03:14.623245Z",
     "shell.execute_reply": "2023-03-28T05:03:14.622353Z"
    },
    "papermill": {
     "duration": 0.033012,
     "end_time": "2023-03-28T05:03:14.625689",
     "exception": false,
     "start_time": "2023-03-28T05:03:14.592677",
     "status": "completed"
    },
    "tags": []
   },
   "outputs": [
    {
     "name": "stdout",
     "output_type": "stream",
     "text": [
      "/kaggle/input/heart-disease-dataset/heart.csv\n"
     ]
    }
   ],
   "source": [
    "# This Python 3 environment comes with many helpful analytics libraries installed\n",
    "# It is defined by the kaggle/python Docker image: https://github.com/kaggle/docker-python\n",
    "# For example, here's several helpful packages to load\n",
    "\n",
    "import numpy as np # linear algebra\n",
    "import pandas as pd # data processing, CSV file I/O (e.g. pd.read_csv)\n",
    "\n",
    "# Input data files are available in the read-only \"../input/\" directory\n",
    "# For example, running this (by clicking run or pressing Shift+Enter) will list all files under the input directory\n",
    "\n",
    "import os\n",
    "for dirname, _, filenames in os.walk('/kaggle/input'):\n",
    "    for filename in filenames:\n",
    "        print(os.path.join(dirname, filename))\n",
    "\n",
    "# You can write up to 20GB to the current directory (/kaggle/working/) that gets preserved as output when you create a version using \"Save & Run All\" \n",
    "# You can also write temporary files to /kaggle/temp/, but they won't be saved outside of the current session"
   ]
  },
  {
   "cell_type": "code",
   "execution_count": 2,
   "id": "bb21e283",
   "metadata": {
    "execution": {
     "iopub.execute_input": "2023-03-28T05:03:14.639927Z",
     "iopub.status.busy": "2023-03-28T05:03:14.639451Z",
     "iopub.status.idle": "2023-03-28T05:03:14.696903Z",
     "shell.execute_reply": "2023-03-28T05:03:14.695480Z"
    },
    "papermill": {
     "duration": 0.067982,
     "end_time": "2023-03-28T05:03:14.699829",
     "exception": false,
     "start_time": "2023-03-28T05:03:14.631847",
     "status": "completed"
    },
    "tags": []
   },
   "outputs": [
    {
     "data": {
      "text/html": [
       "<div>\n",
       "<style scoped>\n",
       "    .dataframe tbody tr th:only-of-type {\n",
       "        vertical-align: middle;\n",
       "    }\n",
       "\n",
       "    .dataframe tbody tr th {\n",
       "        vertical-align: top;\n",
       "    }\n",
       "\n",
       "    .dataframe thead th {\n",
       "        text-align: right;\n",
       "    }\n",
       "</style>\n",
       "<table border=\"1\" class=\"dataframe\">\n",
       "  <thead>\n",
       "    <tr style=\"text-align: right;\">\n",
       "      <th></th>\n",
       "      <th>age</th>\n",
       "      <th>sex</th>\n",
       "      <th>cp</th>\n",
       "      <th>trestbps</th>\n",
       "      <th>chol</th>\n",
       "      <th>fbs</th>\n",
       "      <th>restecg</th>\n",
       "      <th>thalach</th>\n",
       "      <th>exang</th>\n",
       "      <th>oldpeak</th>\n",
       "      <th>slope</th>\n",
       "      <th>ca</th>\n",
       "      <th>thal</th>\n",
       "      <th>target</th>\n",
       "    </tr>\n",
       "  </thead>\n",
       "  <tbody>\n",
       "    <tr>\n",
       "      <th>0</th>\n",
       "      <td>52</td>\n",
       "      <td>1</td>\n",
       "      <td>0</td>\n",
       "      <td>125</td>\n",
       "      <td>212</td>\n",
       "      <td>0</td>\n",
       "      <td>1</td>\n",
       "      <td>168</td>\n",
       "      <td>0</td>\n",
       "      <td>1.0</td>\n",
       "      <td>2</td>\n",
       "      <td>2</td>\n",
       "      <td>3</td>\n",
       "      <td>0</td>\n",
       "    </tr>\n",
       "    <tr>\n",
       "      <th>1</th>\n",
       "      <td>53</td>\n",
       "      <td>1</td>\n",
       "      <td>0</td>\n",
       "      <td>140</td>\n",
       "      <td>203</td>\n",
       "      <td>1</td>\n",
       "      <td>0</td>\n",
       "      <td>155</td>\n",
       "      <td>1</td>\n",
       "      <td>3.1</td>\n",
       "      <td>0</td>\n",
       "      <td>0</td>\n",
       "      <td>3</td>\n",
       "      <td>0</td>\n",
       "    </tr>\n",
       "    <tr>\n",
       "      <th>2</th>\n",
       "      <td>70</td>\n",
       "      <td>1</td>\n",
       "      <td>0</td>\n",
       "      <td>145</td>\n",
       "      <td>174</td>\n",
       "      <td>0</td>\n",
       "      <td>1</td>\n",
       "      <td>125</td>\n",
       "      <td>1</td>\n",
       "      <td>2.6</td>\n",
       "      <td>0</td>\n",
       "      <td>0</td>\n",
       "      <td>3</td>\n",
       "      <td>0</td>\n",
       "    </tr>\n",
       "    <tr>\n",
       "      <th>3</th>\n",
       "      <td>61</td>\n",
       "      <td>1</td>\n",
       "      <td>0</td>\n",
       "      <td>148</td>\n",
       "      <td>203</td>\n",
       "      <td>0</td>\n",
       "      <td>1</td>\n",
       "      <td>161</td>\n",
       "      <td>0</td>\n",
       "      <td>0.0</td>\n",
       "      <td>2</td>\n",
       "      <td>1</td>\n",
       "      <td>3</td>\n",
       "      <td>0</td>\n",
       "    </tr>\n",
       "    <tr>\n",
       "      <th>4</th>\n",
       "      <td>62</td>\n",
       "      <td>0</td>\n",
       "      <td>0</td>\n",
       "      <td>138</td>\n",
       "      <td>294</td>\n",
       "      <td>1</td>\n",
       "      <td>1</td>\n",
       "      <td>106</td>\n",
       "      <td>0</td>\n",
       "      <td>1.9</td>\n",
       "      <td>1</td>\n",
       "      <td>3</td>\n",
       "      <td>2</td>\n",
       "      <td>0</td>\n",
       "    </tr>\n",
       "    <tr>\n",
       "      <th>...</th>\n",
       "      <td>...</td>\n",
       "      <td>...</td>\n",
       "      <td>...</td>\n",
       "      <td>...</td>\n",
       "      <td>...</td>\n",
       "      <td>...</td>\n",
       "      <td>...</td>\n",
       "      <td>...</td>\n",
       "      <td>...</td>\n",
       "      <td>...</td>\n",
       "      <td>...</td>\n",
       "      <td>...</td>\n",
       "      <td>...</td>\n",
       "      <td>...</td>\n",
       "    </tr>\n",
       "    <tr>\n",
       "      <th>1020</th>\n",
       "      <td>59</td>\n",
       "      <td>1</td>\n",
       "      <td>1</td>\n",
       "      <td>140</td>\n",
       "      <td>221</td>\n",
       "      <td>0</td>\n",
       "      <td>1</td>\n",
       "      <td>164</td>\n",
       "      <td>1</td>\n",
       "      <td>0.0</td>\n",
       "      <td>2</td>\n",
       "      <td>0</td>\n",
       "      <td>2</td>\n",
       "      <td>1</td>\n",
       "    </tr>\n",
       "    <tr>\n",
       "      <th>1021</th>\n",
       "      <td>60</td>\n",
       "      <td>1</td>\n",
       "      <td>0</td>\n",
       "      <td>125</td>\n",
       "      <td>258</td>\n",
       "      <td>0</td>\n",
       "      <td>0</td>\n",
       "      <td>141</td>\n",
       "      <td>1</td>\n",
       "      <td>2.8</td>\n",
       "      <td>1</td>\n",
       "      <td>1</td>\n",
       "      <td>3</td>\n",
       "      <td>0</td>\n",
       "    </tr>\n",
       "    <tr>\n",
       "      <th>1022</th>\n",
       "      <td>47</td>\n",
       "      <td>1</td>\n",
       "      <td>0</td>\n",
       "      <td>110</td>\n",
       "      <td>275</td>\n",
       "      <td>0</td>\n",
       "      <td>0</td>\n",
       "      <td>118</td>\n",
       "      <td>1</td>\n",
       "      <td>1.0</td>\n",
       "      <td>1</td>\n",
       "      <td>1</td>\n",
       "      <td>2</td>\n",
       "      <td>0</td>\n",
       "    </tr>\n",
       "    <tr>\n",
       "      <th>1023</th>\n",
       "      <td>50</td>\n",
       "      <td>0</td>\n",
       "      <td>0</td>\n",
       "      <td>110</td>\n",
       "      <td>254</td>\n",
       "      <td>0</td>\n",
       "      <td>0</td>\n",
       "      <td>159</td>\n",
       "      <td>0</td>\n",
       "      <td>0.0</td>\n",
       "      <td>2</td>\n",
       "      <td>0</td>\n",
       "      <td>2</td>\n",
       "      <td>1</td>\n",
       "    </tr>\n",
       "    <tr>\n",
       "      <th>1024</th>\n",
       "      <td>54</td>\n",
       "      <td>1</td>\n",
       "      <td>0</td>\n",
       "      <td>120</td>\n",
       "      <td>188</td>\n",
       "      <td>0</td>\n",
       "      <td>1</td>\n",
       "      <td>113</td>\n",
       "      <td>0</td>\n",
       "      <td>1.4</td>\n",
       "      <td>1</td>\n",
       "      <td>1</td>\n",
       "      <td>3</td>\n",
       "      <td>0</td>\n",
       "    </tr>\n",
       "  </tbody>\n",
       "</table>\n",
       "<p>1025 rows × 14 columns</p>\n",
       "</div>"
      ],
      "text/plain": [
       "      age  sex  cp  trestbps  chol  fbs  restecg  thalach  exang  oldpeak  \\\n",
       "0      52    1   0       125   212    0        1      168      0      1.0   \n",
       "1      53    1   0       140   203    1        0      155      1      3.1   \n",
       "2      70    1   0       145   174    0        1      125      1      2.6   \n",
       "3      61    1   0       148   203    0        1      161      0      0.0   \n",
       "4      62    0   0       138   294    1        1      106      0      1.9   \n",
       "...   ...  ...  ..       ...   ...  ...      ...      ...    ...      ...   \n",
       "1020   59    1   1       140   221    0        1      164      1      0.0   \n",
       "1021   60    1   0       125   258    0        0      141      1      2.8   \n",
       "1022   47    1   0       110   275    0        0      118      1      1.0   \n",
       "1023   50    0   0       110   254    0        0      159      0      0.0   \n",
       "1024   54    1   0       120   188    0        1      113      0      1.4   \n",
       "\n",
       "      slope  ca  thal  target  \n",
       "0         2   2     3       0  \n",
       "1         0   0     3       0  \n",
       "2         0   0     3       0  \n",
       "3         2   1     3       0  \n",
       "4         1   3     2       0  \n",
       "...     ...  ..   ...     ...  \n",
       "1020      2   0     2       1  \n",
       "1021      1   1     3       0  \n",
       "1022      1   1     2       0  \n",
       "1023      2   0     2       1  \n",
       "1024      1   1     3       0  \n",
       "\n",
       "[1025 rows x 14 columns]"
      ]
     },
     "execution_count": 2,
     "metadata": {},
     "output_type": "execute_result"
    }
   ],
   "source": [
    "data = pd.read_csv(r'/kaggle/input/heart-disease-dataset/heart.csv')\n",
    "data"
   ]
  },
  {
   "cell_type": "code",
   "execution_count": 3,
   "id": "4df5b4c0",
   "metadata": {
    "execution": {
     "iopub.execute_input": "2023-03-28T05:03:14.715390Z",
     "iopub.status.busy": "2023-03-28T05:03:14.714616Z",
     "iopub.status.idle": "2023-03-28T05:03:14.722861Z",
     "shell.execute_reply": "2023-03-28T05:03:14.721679Z"
    },
    "papermill": {
     "duration": 0.019092,
     "end_time": "2023-03-28T05:03:14.725355",
     "exception": false,
     "start_time": "2023-03-28T05:03:14.706263",
     "status": "completed"
    },
    "tags": []
   },
   "outputs": [
    {
     "data": {
      "text/plain": [
       "(1025, 14)"
      ]
     },
     "execution_count": 3,
     "metadata": {},
     "output_type": "execute_result"
    }
   ],
   "source": [
    "data.shape"
   ]
  },
  {
   "cell_type": "code",
   "execution_count": 4,
   "id": "509f6941",
   "metadata": {
    "execution": {
     "iopub.execute_input": "2023-03-28T05:03:14.740680Z",
     "iopub.status.busy": "2023-03-28T05:03:14.739985Z",
     "iopub.status.idle": "2023-03-28T05:03:14.767149Z",
     "shell.execute_reply": "2023-03-28T05:03:14.765755Z"
    },
    "papermill": {
     "duration": 0.038031,
     "end_time": "2023-03-28T05:03:14.769982",
     "exception": false,
     "start_time": "2023-03-28T05:03:14.731951",
     "status": "completed"
    },
    "tags": []
   },
   "outputs": [
    {
     "name": "stdout",
     "output_type": "stream",
     "text": [
      "<class 'pandas.core.frame.DataFrame'>\n",
      "RangeIndex: 1025 entries, 0 to 1024\n",
      "Data columns (total 14 columns):\n",
      " #   Column    Non-Null Count  Dtype  \n",
      "---  ------    --------------  -----  \n",
      " 0   age       1025 non-null   int64  \n",
      " 1   sex       1025 non-null   int64  \n",
      " 2   cp        1025 non-null   int64  \n",
      " 3   trestbps  1025 non-null   int64  \n",
      " 4   chol      1025 non-null   int64  \n",
      " 5   fbs       1025 non-null   int64  \n",
      " 6   restecg   1025 non-null   int64  \n",
      " 7   thalach   1025 non-null   int64  \n",
      " 8   exang     1025 non-null   int64  \n",
      " 9   oldpeak   1025 non-null   float64\n",
      " 10  slope     1025 non-null   int64  \n",
      " 11  ca        1025 non-null   int64  \n",
      " 12  thal      1025 non-null   int64  \n",
      " 13  target    1025 non-null   int64  \n",
      "dtypes: float64(1), int64(13)\n",
      "memory usage: 112.2 KB\n"
     ]
    }
   ],
   "source": [
    "data.info()"
   ]
  },
  {
   "cell_type": "code",
   "execution_count": 5,
   "id": "7c0686f3",
   "metadata": {
    "execution": {
     "iopub.execute_input": "2023-03-28T05:03:14.785033Z",
     "iopub.status.busy": "2023-03-28T05:03:14.784611Z",
     "iopub.status.idle": "2023-03-28T05:03:14.795345Z",
     "shell.execute_reply": "2023-03-28T05:03:14.793900Z"
    },
    "papermill": {
     "duration": 0.021271,
     "end_time": "2023-03-28T05:03:14.798032",
     "exception": false,
     "start_time": "2023-03-28T05:03:14.776761",
     "status": "completed"
    },
    "tags": []
   },
   "outputs": [
    {
     "data": {
      "text/plain": [
       "age         0\n",
       "sex         0\n",
       "cp          0\n",
       "trestbps    0\n",
       "chol        0\n",
       "fbs         0\n",
       "restecg     0\n",
       "thalach     0\n",
       "exang       0\n",
       "oldpeak     0\n",
       "slope       0\n",
       "ca          0\n",
       "thal        0\n",
       "target      0\n",
       "dtype: int64"
      ]
     },
     "execution_count": 5,
     "metadata": {},
     "output_type": "execute_result"
    }
   ],
   "source": [
    "data.isnull().sum()"
   ]
  },
  {
   "cell_type": "code",
   "execution_count": 6,
   "id": "41844eb6",
   "metadata": {
    "execution": {
     "iopub.execute_input": "2023-03-28T05:03:14.813624Z",
     "iopub.status.busy": "2023-03-28T05:03:14.813166Z",
     "iopub.status.idle": "2023-03-28T05:03:14.819699Z",
     "shell.execute_reply": "2023-03-28T05:03:14.818331Z"
    },
    "papermill": {
     "duration": 0.017214,
     "end_time": "2023-03-28T05:03:14.822054",
     "exception": false,
     "start_time": "2023-03-28T05:03:14.804840",
     "status": "completed"
    },
    "tags": []
   },
   "outputs": [],
   "source": [
    "# Define a function to detect outliers using the z-score method\n",
    "def detect_outliers_zscore(data, threshold=3):\n",
    "    \"\"\"\n",
    "    Detect outliers in a pandas dataframe using the z-score method.\n",
    "    \"\"\"\n",
    "    z_scores = np.abs((data - data.mean()) / data.std())\n",
    "    return z_scores > threshold\n"
   ]
  },
  {
   "cell_type": "markdown",
   "id": "dcf6e919",
   "metadata": {
    "papermill": {
     "duration": 0.006266,
     "end_time": "2023-03-28T05:03:14.835068",
     "exception": false,
     "start_time": "2023-03-28T05:03:14.828802",
     "status": "completed"
    },
    "tags": []
   },
   "source": [
    "I will be finding out the **outliers** for\n",
    "\n",
    "1. _Age_\n",
    "2. _Cholesterol_\n",
    "3. _Resting Blood Pressure_\n",
    "4. _Fasting Blood Sugar_\n",
    "5. _ST depression_\n",
    "6. _Maximum Heart Rate_\n",
    "\n",
    "\n",
    "And will be aiming to remove them"
   ]
  },
  {
   "cell_type": "code",
   "execution_count": 7,
   "id": "3d8fee8b",
   "metadata": {
    "execution": {
     "iopub.execute_input": "2023-03-28T05:03:14.854393Z",
     "iopub.status.busy": "2023-03-28T05:03:14.853966Z",
     "iopub.status.idle": "2023-03-28T05:03:14.861324Z",
     "shell.execute_reply": "2023-03-28T05:03:14.860413Z"
    },
    "papermill": {
     "duration": 0.020265,
     "end_time": "2023-03-28T05:03:14.864146",
     "exception": false,
     "start_time": "2023-03-28T05:03:14.843881",
     "status": "completed"
    },
    "tags": []
   },
   "outputs": [
    {
     "name": "stdout",
     "output_type": "stream",
     "text": [
      "Number of age outliers: 0\n"
     ]
    }
   ],
   "source": [
    "# Apply the outlier detection function to the age column\n",
    "outliers_age = detect_outliers_zscore(data['age'])\n",
    "\n",
    "# Print the number of outliers detected\n",
    "print(f\"Number of age outliers: {outliers_age.sum()}\")"
   ]
  },
  {
   "cell_type": "code",
   "execution_count": 8,
   "id": "f467a6fa",
   "metadata": {
    "execution": {
     "iopub.execute_input": "2023-03-28T05:03:14.880862Z",
     "iopub.status.busy": "2023-03-28T05:03:14.880413Z",
     "iopub.status.idle": "2023-03-28T05:03:14.885339Z",
     "shell.execute_reply": "2023-03-28T05:03:14.884097Z"
    },
    "papermill": {
     "duration": 0.015987,
     "end_time": "2023-03-28T05:03:14.887879",
     "exception": false,
     "start_time": "2023-03-28T05:03:14.871892",
     "status": "completed"
    },
    "tags": []
   },
   "outputs": [],
   "source": [
    "import matplotlib.pyplot as plt"
   ]
  },
  {
   "cell_type": "code",
   "execution_count": 9,
   "id": "7e9b8cab",
   "metadata": {
    "execution": {
     "iopub.execute_input": "2023-03-28T05:03:14.904265Z",
     "iopub.status.busy": "2023-03-28T05:03:14.903367Z",
     "iopub.status.idle": "2023-03-28T05:03:14.911461Z",
     "shell.execute_reply": "2023-03-28T05:03:14.909733Z"
    },
    "papermill": {
     "duration": 0.019699,
     "end_time": "2023-03-28T05:03:14.914370",
     "exception": false,
     "start_time": "2023-03-28T05:03:14.894671",
     "status": "completed"
    },
    "tags": []
   },
   "outputs": [
    {
     "name": "stdout",
     "output_type": "stream",
     "text": [
      "Number of age outliers: 13\n"
     ]
    }
   ],
   "source": [
    "# Apply the outlier detection function to the age column\n",
    "outliers_chol = detect_outliers_zscore(data['chol'])\n",
    "\n",
    "# Print the number of outliers detected\n",
    "print(f\"Number of age outliers: {outliers_chol.sum()}\")"
   ]
  },
  {
   "cell_type": "code",
   "execution_count": 10,
   "id": "bcabeabf",
   "metadata": {
    "execution": {
     "iopub.execute_input": "2023-03-28T05:03:14.930554Z",
     "iopub.status.busy": "2023-03-28T05:03:14.929331Z",
     "iopub.status.idle": "2023-03-28T05:03:15.146936Z",
     "shell.execute_reply": "2023-03-28T05:03:15.145975Z"
    },
    "papermill": {
     "duration": 0.228267,
     "end_time": "2023-03-28T05:03:15.149566",
     "exception": false,
     "start_time": "2023-03-28T05:03:14.921299",
     "status": "completed"
    },
    "tags": []
   },
   "outputs": [
    {
     "data": {
      "image/png": "[encoded data removed]",
      "text/plain": [
       "<Figure size 640x480 with 1 Axes>"
      ]
     },
     "metadata": {},
     "output_type": "display_data"
    }
   ],
   "source": [
    "# Create a boxplot of the \"Cholesterol\" column\n",
    "plt.boxplot(data['chol'])\n",
    "plt.title('Boxplot of Cholesterol')\n",
    "plt.ylabel('Cholesterol')\n",
    "plt.show()"
   ]
  },
  {
   "cell_type": "code",
   "execution_count": 11,
   "id": "6f7ec35e",
   "metadata": {
    "execution": {
     "iopub.execute_input": "2023-03-28T05:03:15.167722Z",
     "iopub.status.busy": "2023-03-28T05:03:15.166321Z",
     "iopub.status.idle": "2023-03-28T05:03:15.175307Z",
     "shell.execute_reply": "2023-03-28T05:03:15.173685Z"
    },
    "papermill": {
     "duration": 0.020767,
     "end_time": "2023-03-28T05:03:15.178273",
     "exception": false,
     "start_time": "2023-03-28T05:03:15.157506",
     "status": "completed"
    },
    "tags": []
   },
   "outputs": [
    {
     "name": "stdout",
     "output_type": "stream",
     "text": [
      "Number of age outliers: 7\n"
     ]
    }
   ],
   "source": [
    "# Apply the outlier detection function to the Resting Blood Pressure column\n",
    "outliers_restbp = detect_outliers_zscore(data['trestbps'])\n",
    "\n",
    "# Print the number of outliers detected\n",
    "print(f\"Number of age outliers: {outliers_restbp.sum()}\")"
   ]
  },
  {
   "cell_type": "code",
   "execution_count": 12,
   "id": "9b0ad38e",
   "metadata": {
    "execution": {
     "iopub.execute_input": "2023-03-28T05:03:15.195259Z",
     "iopub.status.busy": "2023-03-28T05:03:15.194799Z",
     "iopub.status.idle": "2023-03-28T05:03:15.387674Z",
     "shell.execute_reply": "2023-03-28T05:03:15.386061Z"
    },
    "papermill": {
     "duration": 0.204839,
     "end_time": "2023-03-28T05:03:15.390555",
     "exception": false,
     "start_time": "2023-03-28T05:03:15.185716",
     "status": "completed"
    },
    "tags": []
   },
   "outputs": [
    {
     "data": {
      "image/png": "[encoded data removed]",
      "text/plain": [
       "<Figure size 640x480 with 1 Axes>"
      ]
     },
     "metadata": {},
     "output_type": "display_data"
    }
   ],
   "source": [
    "# Create a boxplot of the \"resting BP\" column\n",
    "plt.boxplot(data['trestbps'])\n",
    "plt.title('Boxplot of Resting Blood Pressure')\n",
    "plt.ylabel('Resting Blood Pressure')\n",
    "plt.show()"
   ]
  },
  {
   "cell_type": "code",
   "execution_count": 13,
   "id": "2934f0b0",
   "metadata": {
    "execution": {
     "iopub.execute_input": "2023-03-28T05:03:15.408106Z",
     "iopub.status.busy": "2023-03-28T05:03:15.407627Z",
     "iopub.status.idle": "2023-03-28T05:03:15.416165Z",
     "shell.execute_reply": "2023-03-28T05:03:15.414932Z"
    },
    "papermill": {
     "duration": 0.020533,
     "end_time": "2023-03-28T05:03:15.418878",
     "exception": false,
     "start_time": "2023-03-28T05:03:15.398345",
     "status": "completed"
    },
    "tags": []
   },
   "outputs": [
    {
     "name": "stdout",
     "output_type": "stream",
     "text": [
      "Number of age outliers: 0\n"
     ]
    }
   ],
   "source": [
    "# Apply the outlier detection function to the age column\n",
    "outliers_blood_sugar = detect_outliers_zscore(data['fbs'])\n",
    "\n",
    "# Print the number of outliers detected\n",
    "print(f\"Number of age outliers: {outliers_blood_sugar.sum()}\")"
   ]
  },
  {
   "cell_type": "code",
   "execution_count": 14,
   "id": "aa59f17d",
   "metadata": {
    "execution": {
     "iopub.execute_input": "2023-03-28T05:03:15.436657Z",
     "iopub.status.busy": "2023-03-28T05:03:15.435832Z",
     "iopub.status.idle": "2023-03-28T05:03:15.444052Z",
     "shell.execute_reply": "2023-03-28T05:03:15.442731Z"
    },
    "papermill": {
     "duration": 0.020167,
     "end_time": "2023-03-28T05:03:15.446817",
     "exception": false,
     "start_time": "2023-03-28T05:03:15.426650",
     "status": "completed"
    },
    "tags": []
   },
   "outputs": [
    {
     "name": "stdout",
     "output_type": "stream",
     "text": [
      "Number of age outliers: 7\n"
     ]
    }
   ],
   "source": [
    "# Apply the outlier detection function to the age column\n",
    "outliers_St_depression = detect_outliers_zscore(data['oldpeak'])\n",
    "\n",
    "# Print the number of outliers detected\n",
    "print(f\"Number of age outliers: {outliers_St_depression.sum()}\")"
   ]
  },
  {
   "cell_type": "code",
   "execution_count": 15,
   "id": "c8fca427",
   "metadata": {
    "execution": {
     "iopub.execute_input": "2023-03-28T05:03:15.464345Z",
     "iopub.status.busy": "2023-03-28T05:03:15.463888Z",
     "iopub.status.idle": "2023-03-28T05:03:15.658657Z",
     "shell.execute_reply": "2023-03-28T05:03:15.657294Z"
    },
    "papermill": {
     "duration": 0.206895,
     "end_time": "2023-03-28T05:03:15.661508",
     "exception": false,
     "start_time": "2023-03-28T05:03:15.454613",
     "status": "completed"
    },
    "tags": []
   },
   "outputs": [
    {
     "data": {
      "image/png": "[encoded data removed]",
      "text/plain": [
       "<Figure size 640x480 with 1 Axes>"
      ]
     },
     "metadata": {},
     "output_type": "display_data"
    }
   ],
   "source": [
    "# Create a boxplot of the \"ST depression\" column\n",
    "plt.boxplot(data['oldpeak'])\n",
    "plt.title('Boxplot of ST Depression')\n",
    "plt.ylabel('ST Depression')\n",
    "plt.show()"
   ]
  },
  {
   "cell_type": "code",
   "execution_count": 16,
   "id": "77ef229b",
   "metadata": {
    "execution": {
     "iopub.execute_input": "2023-03-28T05:03:15.680957Z",
     "iopub.status.busy": "2023-03-28T05:03:15.680511Z",
     "iopub.status.idle": "2023-03-28T05:03:15.690139Z",
     "shell.execute_reply": "2023-03-28T05:03:15.688517Z"
    },
    "papermill": {
     "duration": 0.023761,
     "end_time": "2023-03-28T05:03:15.693865",
     "exception": false,
     "start_time": "2023-03-28T05:03:15.670104",
     "status": "completed"
    },
    "tags": []
   },
   "outputs": [
    {
     "name": "stdout",
     "output_type": "stream",
     "text": [
      "Number of age outliers: 4\n"
     ]
    }
   ],
   "source": [
    "# Apply the outlier detection function to the thalach column\n",
    "outliers_max_heartrate = detect_outliers_zscore(data['thalach'])\n",
    "\n",
    "# Print the number of outliers detected\n",
    "print(f\"Number of age outliers: {outliers_max_heartrate.sum()}\")"
   ]
  },
  {
   "cell_type": "code",
   "execution_count": 17,
   "id": "d06f9efa",
   "metadata": {
    "execution": {
     "iopub.execute_input": "2023-03-28T05:03:15.713590Z",
     "iopub.status.busy": "2023-03-28T05:03:15.713097Z",
     "iopub.status.idle": "2023-03-28T05:03:15.914288Z",
     "shell.execute_reply": "2023-03-28T05:03:15.912885Z"
    },
    "papermill": {
     "duration": 0.214489,
     "end_time": "2023-03-28T05:03:15.917283",
     "exception": false,
     "start_time": "2023-03-28T05:03:15.702794",
     "status": "completed"
    },
    "tags": []
   },
   "outputs": [
    {
     "data": {
      "image/png": "[encoded data removed]",
      "text/plain": [
       "<Figure size 640x480 with 1 Axes>"
      ]
     },
     "metadata": {},
     "output_type": "display_data"
    }
   ],
   "source": [
    "# Create a boxplot of the \"thalach\" column\n",
    "plt.boxplot(data['thalach'])\n",
    "plt.title('Boxplot of maximum Heart Rate')\n",
    "plt.ylabel('Maximum HeartRate')\n",
    "plt.show()"
   ]
  },
  {
   "cell_type": "markdown",
   "id": "bc22f70f",
   "metadata": {
    "papermill": {
     "duration": 0.008206,
     "end_time": "2023-03-28T05:03:15.934276",
     "exception": false,
     "start_time": "2023-03-28T05:03:15.926070",
     "status": "completed"
    },
    "tags": []
   },
   "source": [
    "Outliers are present in\n",
    "- Cholesterol\n",
    "- Resting Blood Pressure\n",
    "- ST depression\n",
    "- Maximum HeartRate"
   ]
  },
  {
   "cell_type": "code",
   "execution_count": null,
   "id": "8d2ca639",
   "metadata": {
    "papermill": {
     "duration": 0.008128,
     "end_time": "2023-03-28T05:03:15.951036",
     "exception": false,
     "start_time": "2023-03-28T05:03:15.942908",
     "status": "completed"
    },
    "tags": []
   },
   "outputs": [],
   "source": []
  }
 ],
 "metadata": {
  "kernelspec": {
   "display_name": "Python 3",
   "language": "python",
   "name": "python3"
  },
  "language_info": {
   "codemirror_mode": {
    "name": "ipython",
    "version": 3
   },
   "file_extension": ".py",
   "mimetype": "text/x-python",
   "name": "python",
   "nbconvert_exporter": "python",
   "pygments_lexer": "ipython3",
   "version": "3.7.12"
  },
  "papermill": {
   "default_parameters": {},
   "duration": 13.807109,
   "end_time": "2023-03-28T05:03:16.683239",
   "environment_variables": {},
   "exception": null,
   "input_path": "__notebook__.ipynb",
   "output_path": "__notebook__.ipynb",
   "parameters": {},
   "start_time": "2023-03-28T05:03:02.876130",
   "version": "2.4.0"
  }
 },
 "nbformat": 4,
 "nbformat_minor": 5
}
