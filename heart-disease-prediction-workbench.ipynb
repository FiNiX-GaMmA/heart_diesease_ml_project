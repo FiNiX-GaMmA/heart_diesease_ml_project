{
 "cells": [
  {
   "cell_type": "markdown",
   "id": "a540806b",
   "metadata": {
    "papermill": {
     "duration": 0.012149,
     "end_time": "2023-04-26T15:03:38.870586",
     "exception": false,
     "start_time": "2023-04-26T15:03:38.858437",
     "status": "completed"
    },
    "tags": []
   },
   "source": [
    "# A mchine learning project on **Heart Diseases**"
   ]
  },
  {
   "cell_type": "markdown",
   "id": "3e1f8d12",
   "metadata": {
    "papermill": {
     "duration": 0.011187,
     "end_time": "2023-04-26T15:03:38.893214",
     "exception": false,
     "start_time": "2023-04-26T15:03:38.882027",
     "status": "completed"
    },
    "tags": []
   },
   "source": [
    "## This is my **3rd semester** final machine learning project on _Heart Disease classification_"
   ]
  },
  {
   "cell_type": "markdown",
   "id": "41a2009d",
   "metadata": {
    "papermill": {
     "duration": 0.010937,
     "end_time": "2023-04-26T15:03:38.915196",
     "exception": false,
     "start_time": "2023-04-26T15:03:38.904259",
     "status": "completed"
    },
    "tags": []
   },
   "source": [
    "Context\n",
    "\n",
    "This data set dates from 1988 and consists of four databases: Cleveland, Hungary, Switzerland, and Long Beach V. It contains 76 attributes, including the predicted attribute, but all published experiments refer to using a subset of 14 of them. The \"target\" field refers to the presence of heart disease in the patient. It is integer valued 0 = no disease and 1 = disease."
   ]
  },
  {
   "cell_type": "markdown",
   "id": "6072af50",
   "metadata": {
    "papermill": {
     "duration": 0.011468,
     "end_time": "2023-04-26T15:03:38.939499",
     "exception": false,
     "start_time": "2023-04-26T15:03:38.928031",
     "status": "completed"
    },
    "tags": []
   },
   "source": [
    "\n",
    "### Attributes\n",
    "- age\n",
    "- sex\n",
    "- chest pain type (4 values)\n",
    "- resting blood pressure\n",
    "- serum cholestoral in mg/dl\n",
    "- fasting blood sugar > 120 mg/dl\n",
    "- resting electrocardiographic results (values 0,1,2)\n",
    "- maximum heart rate achieved\n",
    "- exercise induced angina\n",
    "- oldpeak = ST depression induced by exercise relative to rest\n",
    "- the slope of the peak exercise ST segment\n",
    "  number of major vessels (0-3) colored by flourosopy\n",
    "- thal: 0 = normal; 1 = fixed defect; 2 = reversable defect\n",
    "\n",
    "The names and social security numbers of the patients were recently removed from the database, replaced with dummy values.\n",
    "\n"
   ]
  },
  {
   "cell_type": "code",
   "execution_count": 1,
   "id": "46ebbaa6",
   "metadata": {
    "_cell_guid": "b1076dfc-b9ad-4769-8c92-a6c4dae69d19",
    "_uuid": "8f2839f25d086af736a60e9eeb907d3b93b6e0e5",
    "execution": {
     "iopub.execute_input": "2023-04-26T15:03:38.963717Z",
     "iopub.status.busy": "2023-04-26T15:03:38.963282Z",
     "iopub.status.idle": "2023-04-26T15:03:38.980807Z",
     "shell.execute_reply": "2023-04-26T15:03:38.979584Z"
    },
    "papermill": {
     "duration": 0.033068,
     "end_time": "2023-04-26T15:03:38.983794",
     "exception": false,
     "start_time": "2023-04-26T15:03:38.950726",
     "status": "completed"
    },
    "tags": []
   },
   "outputs": [
    {
     "name": "stdout",
     "output_type": "stream",
     "text": [
      "/kaggle/input/heart-disease-dataset/heart.csv\n"
     ]
    }
   ],
   "source": [
    "# This Python 3 environment comes with many helpful analytics libraries installed\n",
    "# It is defined by the kaggle/python Docker image: https://github.com/kaggle/docker-python\n",
    "# For example, here's several helpful packages to load\n",
    "\n",
    "import numpy as np # linear algebra\n",
    "import pandas as pd # data processing, CSV file I/O (e.g. pd.read_csv)\n",
    "\n",
    "# Input data files are available in the read-only \"../input/\" directory\n",
    "# For example, running this (by clicking run or pressing Shift+Enter) will list all files under the input directory\n",
    "\n",
    "import os\n",
    "for dirname, _, filenames in os.walk('/kaggle/input'):\n",
    "    for filename in filenames:\n",
    "        print(os.path.join(dirname, filename))\n",
    "\n",
    "# You can write up to 20GB to the current directory (/kaggle/working/) that gets preserved as output when you create a version using \"Save & Run All\" \n",
    "# You can also write temporary files to /kaggle/temp/, but they won't be saved outside of the current session"
   ]
  },
  {
   "cell_type": "code",
   "execution_count": 2,
   "id": "b34ac4bc",
   "metadata": {
    "execution": {
     "iopub.execute_input": "2023-04-26T15:03:39.008487Z",
     "iopub.status.busy": "2023-04-26T15:03:39.008066Z",
     "iopub.status.idle": "2023-04-26T15:03:39.053925Z",
     "shell.execute_reply": "2023-04-26T15:03:39.052612Z"
    },
    "papermill": {
     "duration": 0.061094,
     "end_time": "2023-04-26T15:03:39.056335",
     "exception": false,
     "start_time": "2023-04-26T15:03:38.995241",
     "status": "completed"
    },
    "tags": []
   },
   "outputs": [
    {
     "data": {
      "text/html": [
       "<div>\n",
       "<style scoped>\n",
       "    .dataframe tbody tr th:only-of-type {\n",
       "        vertical-align: middle;\n",
       "    }\n",
       "\n",
       "    .dataframe tbody tr th {\n",
       "        vertical-align: top;\n",
       "    }\n",
       "\n",
       "    .dataframe thead th {\n",
       "        text-align: right;\n",
       "    }\n",
       "</style>\n",
       "<table border=\"1\" class=\"dataframe\">\n",
       "  <thead>\n",
       "    <tr style=\"text-align: right;\">\n",
       "      <th></th>\n",
       "      <th>age</th>\n",
       "      <th>sex</th>\n",
       "      <th>cp</th>\n",
       "      <th>trestbps</th>\n",
       "      <th>chol</th>\n",
       "      <th>fbs</th>\n",
       "      <th>restecg</th>\n",
       "      <th>thalach</th>\n",
       "      <th>exang</th>\n",
       "      <th>oldpeak</th>\n",
       "      <th>slope</th>\n",
       "      <th>ca</th>\n",
       "      <th>thal</th>\n",
       "      <th>target</th>\n",
       "    </tr>\n",
       "  </thead>\n",
       "  <tbody>\n",
       "    <tr>\n",
       "      <th>0</th>\n",
       "      <td>52</td>\n",
       "      <td>1</td>\n",
       "      <td>0</td>\n",
       "      <td>125</td>\n",
       "      <td>212</td>\n",
       "      <td>0</td>\n",
       "      <td>1</td>\n",
       "      <td>168</td>\n",
       "      <td>0</td>\n",
       "      <td>1.0</td>\n",
       "      <td>2</td>\n",
       "      <td>2</td>\n",
       "      <td>3</td>\n",
       "      <td>0</td>\n",
       "    </tr>\n",
       "    <tr>\n",
       "      <th>1</th>\n",
       "      <td>53</td>\n",
       "      <td>1</td>\n",
       "      <td>0</td>\n",
       "      <td>140</td>\n",
       "      <td>203</td>\n",
       "      <td>1</td>\n",
       "      <td>0</td>\n",
       "      <td>155</td>\n",
       "      <td>1</td>\n",
       "      <td>3.1</td>\n",
       "      <td>0</td>\n",
       "      <td>0</td>\n",
       "      <td>3</td>\n",
       "      <td>0</td>\n",
       "    </tr>\n",
       "    <tr>\n",
       "      <th>2</th>\n",
       "      <td>70</td>\n",
       "      <td>1</td>\n",
       "      <td>0</td>\n",
       "      <td>145</td>\n",
       "      <td>174</td>\n",
       "      <td>0</td>\n",
       "      <td>1</td>\n",
       "      <td>125</td>\n",
       "      <td>1</td>\n",
       "      <td>2.6</td>\n",
       "      <td>0</td>\n",
       "      <td>0</td>\n",
       "      <td>3</td>\n",
       "      <td>0</td>\n",
       "    </tr>\n",
       "    <tr>\n",
       "      <th>3</th>\n",
       "      <td>61</td>\n",
       "      <td>1</td>\n",
       "      <td>0</td>\n",
       "      <td>148</td>\n",
       "      <td>203</td>\n",
       "      <td>0</td>\n",
       "      <td>1</td>\n",
       "      <td>161</td>\n",
       "      <td>0</td>\n",
       "      <td>0.0</td>\n",
       "      <td>2</td>\n",
       "      <td>1</td>\n",
       "      <td>3</td>\n",
       "      <td>0</td>\n",
       "    </tr>\n",
       "    <tr>\n",
       "      <th>4</th>\n",
       "      <td>62</td>\n",
       "      <td>0</td>\n",
       "      <td>0</td>\n",
       "      <td>138</td>\n",
       "      <td>294</td>\n",
       "      <td>1</td>\n",
       "      <td>1</td>\n",
       "      <td>106</td>\n",
       "      <td>0</td>\n",
       "      <td>1.9</td>\n",
       "      <td>1</td>\n",
       "      <td>3</td>\n",
       "      <td>2</td>\n",
       "      <td>0</td>\n",
       "    </tr>\n",
       "  </tbody>\n",
       "</table>\n",
       "</div>"
      ],
      "text/plain": [
       "   age  sex  cp  trestbps  chol  fbs  restecg  thalach  exang  oldpeak  slope  \\\n",
       "0   52    1   0       125   212    0        1      168      0      1.0      2   \n",
       "1   53    1   0       140   203    1        0      155      1      3.1      0   \n",
       "2   70    1   0       145   174    0        1      125      1      2.6      0   \n",
       "3   61    1   0       148   203    0        1      161      0      0.0      2   \n",
       "4   62    0   0       138   294    1        1      106      0      1.9      1   \n",
       "\n",
       "   ca  thal  target  \n",
       "0   2     3       0  \n",
       "1   0     3       0  \n",
       "2   0     3       0  \n",
       "3   1     3       0  \n",
       "4   3     2       0  "
      ]
     },
     "execution_count": 2,
     "metadata": {},
     "output_type": "execute_result"
    }
   ],
   "source": [
    "data = pd.read_csv(r'/kaggle/input/heart-disease-dataset/heart.csv')\n",
    "data.head()"
   ]
  },
  {
   "cell_type": "code",
   "execution_count": 3,
   "id": "b9ea0933",
   "metadata": {
    "execution": {
     "iopub.execute_input": "2023-04-26T15:03:39.081100Z",
     "iopub.status.busy": "2023-04-26T15:03:39.080662Z",
     "iopub.status.idle": "2023-04-26T15:03:39.088326Z",
     "shell.execute_reply": "2023-04-26T15:03:39.087105Z"
    },
    "papermill": {
     "duration": 0.023047,
     "end_time": "2023-04-26T15:03:39.090852",
     "exception": false,
     "start_time": "2023-04-26T15:03:39.067805",
     "status": "completed"
    },
    "tags": []
   },
   "outputs": [
    {
     "data": {
      "text/plain": [
       "(1025, 14)"
      ]
     },
     "execution_count": 3,
     "metadata": {},
     "output_type": "execute_result"
    }
   ],
   "source": [
    "data.shape"
   ]
  },
  {
   "cell_type": "code",
   "execution_count": 4,
   "id": "97fc133e",
   "metadata": {
    "execution": {
     "iopub.execute_input": "2023-04-26T15:03:39.116834Z",
     "iopub.status.busy": "2023-04-26T15:03:39.116396Z",
     "iopub.status.idle": "2023-04-26T15:03:39.140989Z",
     "shell.execute_reply": "2023-04-26T15:03:39.139565Z"
    },
    "papermill": {
     "duration": 0.040918,
     "end_time": "2023-04-26T15:03:39.143709",
     "exception": false,
     "start_time": "2023-04-26T15:03:39.102791",
     "status": "completed"
    },
    "tags": []
   },
   "outputs": [
    {
     "name": "stdout",
     "output_type": "stream",
     "text": [
      "<class 'pandas.core.frame.DataFrame'>\n",
      "RangeIndex: 1025 entries, 0 to 1024\n",
      "Data columns (total 14 columns):\n",
      " #   Column    Non-Null Count  Dtype  \n",
      "---  ------    --------------  -----  \n",
      " 0   age       1025 non-null   int64  \n",
      " 1   sex       1025 non-null   int64  \n",
      " 2   cp        1025 non-null   int64  \n",
      " 3   trestbps  1025 non-null   int64  \n",
      " 4   chol      1025 non-null   int64  \n",
      " 5   fbs       1025 non-null   int64  \n",
      " 6   restecg   1025 non-null   int64  \n",
      " 7   thalach   1025 non-null   int64  \n",
      " 8   exang     1025 non-null   int64  \n",
      " 9   oldpeak   1025 non-null   float64\n",
      " 10  slope     1025 non-null   int64  \n",
      " 11  ca        1025 non-null   int64  \n",
      " 12  thal      1025 non-null   int64  \n",
      " 13  target    1025 non-null   int64  \n",
      "dtypes: float64(1), int64(13)\n",
      "memory usage: 112.2 KB\n"
     ]
    }
   ],
   "source": [
    "data.info()"
   ]
  },
  {
   "cell_type": "code",
   "execution_count": 5,
   "id": "6c265358",
   "metadata": {
    "execution": {
     "iopub.execute_input": "2023-04-26T15:03:39.169454Z",
     "iopub.status.busy": "2023-04-26T15:03:39.168306Z",
     "iopub.status.idle": "2023-04-26T15:03:39.223441Z",
     "shell.execute_reply": "2023-04-26T15:03:39.222199Z"
    },
    "papermill": {
     "duration": 0.070722,
     "end_time": "2023-04-26T15:03:39.225955",
     "exception": false,
     "start_time": "2023-04-26T15:03:39.155233",
     "status": "completed"
    },
    "tags": []
   },
   "outputs": [
    {
     "data": {
      "text/html": [
       "<div>\n",
       "<style scoped>\n",
       "    .dataframe tbody tr th:only-of-type {\n",
       "        vertical-align: middle;\n",
       "    }\n",
       "\n",
       "    .dataframe tbody tr th {\n",
       "        vertical-align: top;\n",
       "    }\n",
       "\n",
       "    .dataframe thead th {\n",
       "        text-align: right;\n",
       "    }\n",
       "</style>\n",
       "<table border=\"1\" class=\"dataframe\">\n",
       "  <thead>\n",
       "    <tr style=\"text-align: right;\">\n",
       "      <th></th>\n",
       "      <th>age</th>\n",
       "      <th>sex</th>\n",
       "      <th>cp</th>\n",
       "      <th>trestbps</th>\n",
       "      <th>chol</th>\n",
       "      <th>fbs</th>\n",
       "      <th>restecg</th>\n",
       "      <th>thalach</th>\n",
       "      <th>exang</th>\n",
       "      <th>oldpeak</th>\n",
       "      <th>slope</th>\n",
       "      <th>ca</th>\n",
       "      <th>thal</th>\n",
       "      <th>target</th>\n",
       "    </tr>\n",
       "  </thead>\n",
       "  <tbody>\n",
       "    <tr>\n",
       "      <th>count</th>\n",
       "      <td>1025.000000</td>\n",
       "      <td>1025.000000</td>\n",
       "      <td>1025.000000</td>\n",
       "      <td>1025.000000</td>\n",
       "      <td>1025.00000</td>\n",
       "      <td>1025.000000</td>\n",
       "      <td>1025.000000</td>\n",
       "      <td>1025.000000</td>\n",
       "      <td>1025.000000</td>\n",
       "      <td>1025.000000</td>\n",
       "      <td>1025.000000</td>\n",
       "      <td>1025.000000</td>\n",
       "      <td>1025.000000</td>\n",
       "      <td>1025.000000</td>\n",
       "    </tr>\n",
       "    <tr>\n",
       "      <th>mean</th>\n",
       "      <td>54.434146</td>\n",
       "      <td>0.695610</td>\n",
       "      <td>0.942439</td>\n",
       "      <td>131.611707</td>\n",
       "      <td>246.00000</td>\n",
       "      <td>0.149268</td>\n",
       "      <td>0.529756</td>\n",
       "      <td>149.114146</td>\n",
       "      <td>0.336585</td>\n",
       "      <td>1.071512</td>\n",
       "      <td>1.385366</td>\n",
       "      <td>0.754146</td>\n",
       "      <td>2.323902</td>\n",
       "      <td>0.513171</td>\n",
       "    </tr>\n",
       "    <tr>\n",
       "      <th>std</th>\n",
       "      <td>9.072290</td>\n",
       "      <td>0.460373</td>\n",
       "      <td>1.029641</td>\n",
       "      <td>17.516718</td>\n",
       "      <td>51.59251</td>\n",
       "      <td>0.356527</td>\n",
       "      <td>0.527878</td>\n",
       "      <td>23.005724</td>\n",
       "      <td>0.472772</td>\n",
       "      <td>1.175053</td>\n",
       "      <td>0.617755</td>\n",
       "      <td>1.030798</td>\n",
       "      <td>0.620660</td>\n",
       "      <td>0.500070</td>\n",
       "    </tr>\n",
       "    <tr>\n",
       "      <th>min</th>\n",
       "      <td>29.000000</td>\n",
       "      <td>0.000000</td>\n",
       "      <td>0.000000</td>\n",
       "      <td>94.000000</td>\n",
       "      <td>126.00000</td>\n",
       "      <td>0.000000</td>\n",
       "      <td>0.000000</td>\n",
       "      <td>71.000000</td>\n",
       "      <td>0.000000</td>\n",
       "      <td>0.000000</td>\n",
       "      <td>0.000000</td>\n",
       "      <td>0.000000</td>\n",
       "      <td>0.000000</td>\n",
       "      <td>0.000000</td>\n",
       "    </tr>\n",
       "    <tr>\n",
       "      <th>25%</th>\n",
       "      <td>48.000000</td>\n",
       "      <td>0.000000</td>\n",
       "      <td>0.000000</td>\n",
       "      <td>120.000000</td>\n",
       "      <td>211.00000</td>\n",
       "      <td>0.000000</td>\n",
       "      <td>0.000000</td>\n",
       "      <td>132.000000</td>\n",
       "      <td>0.000000</td>\n",
       "      <td>0.000000</td>\n",
       "      <td>1.000000</td>\n",
       "      <td>0.000000</td>\n",
       "      <td>2.000000</td>\n",
       "      <td>0.000000</td>\n",
       "    </tr>\n",
       "    <tr>\n",
       "      <th>50%</th>\n",
       "      <td>56.000000</td>\n",
       "      <td>1.000000</td>\n",
       "      <td>1.000000</td>\n",
       "      <td>130.000000</td>\n",
       "      <td>240.00000</td>\n",
       "      <td>0.000000</td>\n",
       "      <td>1.000000</td>\n",
       "      <td>152.000000</td>\n",
       "      <td>0.000000</td>\n",
       "      <td>0.800000</td>\n",
       "      <td>1.000000</td>\n",
       "      <td>0.000000</td>\n",
       "      <td>2.000000</td>\n",
       "      <td>1.000000</td>\n",
       "    </tr>\n",
       "    <tr>\n",
       "      <th>75%</th>\n",
       "      <td>61.000000</td>\n",
       "      <td>1.000000</td>\n",
       "      <td>2.000000</td>\n",
       "      <td>140.000000</td>\n",
       "      <td>275.00000</td>\n",
       "      <td>0.000000</td>\n",
       "      <td>1.000000</td>\n",
       "      <td>166.000000</td>\n",
       "      <td>1.000000</td>\n",
       "      <td>1.800000</td>\n",
       "      <td>2.000000</td>\n",
       "      <td>1.000000</td>\n",
       "      <td>3.000000</td>\n",
       "      <td>1.000000</td>\n",
       "    </tr>\n",
       "    <tr>\n",
       "      <th>max</th>\n",
       "      <td>77.000000</td>\n",
       "      <td>1.000000</td>\n",
       "      <td>3.000000</td>\n",
       "      <td>200.000000</td>\n",
       "      <td>564.00000</td>\n",
       "      <td>1.000000</td>\n",
       "      <td>2.000000</td>\n",
       "      <td>202.000000</td>\n",
       "      <td>1.000000</td>\n",
       "      <td>6.200000</td>\n",
       "      <td>2.000000</td>\n",
       "      <td>4.000000</td>\n",
       "      <td>3.000000</td>\n",
       "      <td>1.000000</td>\n",
       "    </tr>\n",
       "  </tbody>\n",
       "</table>\n",
       "</div>"
      ],
      "text/plain": [
       "               age          sex           cp     trestbps        chol  \\\n",
       "count  1025.000000  1025.000000  1025.000000  1025.000000  1025.00000   \n",
       "mean     54.434146     0.695610     0.942439   131.611707   246.00000   \n",
       "std       9.072290     0.460373     1.029641    17.516718    51.59251   \n",
       "min      29.000000     0.000000     0.000000    94.000000   126.00000   \n",
       "25%      48.000000     0.000000     0.000000   120.000000   211.00000   \n",
       "50%      56.000000     1.000000     1.000000   130.000000   240.00000   \n",
       "75%      61.000000     1.000000     2.000000   140.000000   275.00000   \n",
       "max      77.000000     1.000000     3.000000   200.000000   564.00000   \n",
       "\n",
       "               fbs      restecg      thalach        exang      oldpeak  \\\n",
       "count  1025.000000  1025.000000  1025.000000  1025.000000  1025.000000   \n",
       "mean      0.149268     0.529756   149.114146     0.336585     1.071512   \n",
       "std       0.356527     0.527878    23.005724     0.472772     1.175053   \n",
       "min       0.000000     0.000000    71.000000     0.000000     0.000000   \n",
       "25%       0.000000     0.000000   132.000000     0.000000     0.000000   \n",
       "50%       0.000000     1.000000   152.000000     0.000000     0.800000   \n",
       "75%       0.000000     1.000000   166.000000     1.000000     1.800000   \n",
       "max       1.000000     2.000000   202.000000     1.000000     6.200000   \n",
       "\n",
       "             slope           ca         thal       target  \n",
       "count  1025.000000  1025.000000  1025.000000  1025.000000  \n",
       "mean      1.385366     0.754146     2.323902     0.513171  \n",
       "std       0.617755     1.030798     0.620660     0.500070  \n",
       "min       0.000000     0.000000     0.000000     0.000000  \n",
       "25%       1.000000     0.000000     2.000000     0.000000  \n",
       "50%       1.000000     0.000000     2.000000     1.000000  \n",
       "75%       2.000000     1.000000     3.000000     1.000000  \n",
       "max       2.000000     4.000000     3.000000     1.000000  "
      ]
     },
     "execution_count": 5,
     "metadata": {},
     "output_type": "execute_result"
    }
   ],
   "source": [
    "data.describe()"
   ]
  },
  {
   "cell_type": "code",
   "execution_count": 6,
   "id": "5d33c597",
   "metadata": {
    "execution": {
     "iopub.execute_input": "2023-04-26T15:03:39.251397Z",
     "iopub.status.busy": "2023-04-26T15:03:39.251012Z",
     "iopub.status.idle": "2023-04-26T15:03:39.260646Z",
     "shell.execute_reply": "2023-04-26T15:03:39.259383Z"
    },
    "papermill": {
     "duration": 0.02597,
     "end_time": "2023-04-26T15:03:39.263647",
     "exception": false,
     "start_time": "2023-04-26T15:03:39.237677",
     "status": "completed"
    },
    "tags": []
   },
   "outputs": [
    {
     "data": {
      "text/plain": [
       "age         0\n",
       "sex         0\n",
       "cp          0\n",
       "trestbps    0\n",
       "chol        0\n",
       "fbs         0\n",
       "restecg     0\n",
       "thalach     0\n",
       "exang       0\n",
       "oldpeak     0\n",
       "slope       0\n",
       "ca          0\n",
       "thal        0\n",
       "target      0\n",
       "dtype: int64"
      ]
     },
     "execution_count": 6,
     "metadata": {},
     "output_type": "execute_result"
    }
   ],
   "source": [
    "data.isnull().sum()"
   ]
  },
  {
   "cell_type": "code",
   "execution_count": 7,
   "id": "0b568667",
   "metadata": {
    "execution": {
     "iopub.execute_input": "2023-04-26T15:03:39.290550Z",
     "iopub.status.busy": "2023-04-26T15:03:39.290102Z",
     "iopub.status.idle": "2023-04-26T15:03:40.505911Z",
     "shell.execute_reply": "2023-04-26T15:03:40.504733Z"
    },
    "papermill": {
     "duration": 1.23281,
     "end_time": "2023-04-26T15:03:40.508886",
     "exception": false,
     "start_time": "2023-04-26T15:03:39.276076",
     "status": "completed"
    },
    "tags": []
   },
   "outputs": [],
   "source": [
    "import matplotlib.pyplot as plt\n",
    "import seaborn as sns"
   ]
  },
  {
   "cell_type": "code",
   "execution_count": 8,
   "id": "57b3a4e4",
   "metadata": {
    "execution": {
     "iopub.execute_input": "2023-04-26T15:03:40.534666Z",
     "iopub.status.busy": "2023-04-26T15:03:40.534183Z",
     "iopub.status.idle": "2023-04-26T15:03:40.824659Z",
     "shell.execute_reply": "2023-04-26T15:03:40.823386Z"
    },
    "papermill": {
     "duration": 0.306334,
     "end_time": "2023-04-26T15:03:40.827174",
     "exception": false,
     "start_time": "2023-04-26T15:03:40.520840",
     "status": "completed"
    },
    "tags": []
   },
   "outputs": [
    {
     "data": {
      "image/png": "[encoded data removed]",
      "text/plain": [
       "<Figure size 640x480 with 1 Axes>"
      ]
     },
     "metadata": {},
     "output_type": "display_data"
    }
   ],
   "source": [
    "data['age'].hist()\n",
    "plt.show()"
   ]
  },
  {
   "cell_type": "code",
   "execution_count": 9,
   "id": "b15a8f44",
   "metadata": {
    "execution": {
     "iopub.execute_input": "2023-04-26T15:03:40.854011Z",
     "iopub.status.busy": "2023-04-26T15:03:40.853605Z",
     "iopub.status.idle": "2023-04-26T15:03:41.100560Z",
     "shell.execute_reply": "2023-04-26T15:03:41.098991Z"
    },
    "papermill": {
     "duration": 0.263541,
     "end_time": "2023-04-26T15:03:41.103329",
     "exception": false,
     "start_time": "2023-04-26T15:03:40.839788",
     "status": "completed"
    },
    "tags": []
   },
   "outputs": [
    {
     "data": {
      "text/plain": [
       "<AxesSubplot:>"
      ]
     },
     "execution_count": 9,
     "metadata": {},
     "output_type": "execute_result"
    },
    {
     "data": {
      "image/png": "[encoded data removed]",
      "text/plain": [
       "<Figure size 640x480 with 1 Axes>"
      ]
     },
     "metadata": {},
     "output_type": "display_data"
    }
   ],
   "source": [
    "data['trestbps'].hist()"
   ]
  },
  {
   "cell_type": "code",
   "execution_count": 10,
   "id": "43730af2",
   "metadata": {
    "execution": {
     "iopub.execute_input": "2023-04-26T15:03:41.131309Z",
     "iopub.status.busy": "2023-04-26T15:03:41.130907Z",
     "iopub.status.idle": "2023-04-26T15:03:41.372946Z",
     "shell.execute_reply": "2023-04-26T15:03:41.371629Z"
    },
    "papermill": {
     "duration": 0.259637,
     "end_time": "2023-04-26T15:03:41.375774",
     "exception": false,
     "start_time": "2023-04-26T15:03:41.116137",
     "status": "completed"
    },
    "tags": []
   },
   "outputs": [
    {
     "data": {
      "text/plain": [
       "<AxesSubplot:>"
      ]
     },
     "execution_count": 10,
     "metadata": {},
     "output_type": "execute_result"
    },
    {
     "data": {
      "image/png": "[encoded data removed]",
      "text/plain": [
       "<Figure size 640x480 with 1 Axes>"
      ]
     },
     "metadata": {},
     "output_type": "display_data"
    }
   ],
   "source": [
    "data['chol'].hist()\n"
   ]
  },
  {
   "cell_type": "code",
   "execution_count": 11,
   "id": "d941c5b6",
   "metadata": {
    "execution": {
     "iopub.execute_input": "2023-04-26T15:03:41.404075Z",
     "iopub.status.busy": "2023-04-26T15:03:41.403660Z",
     "iopub.status.idle": "2023-04-26T15:03:41.655244Z",
     "shell.execute_reply": "2023-04-26T15:03:41.653810Z"
    },
    "papermill": {
     "duration": 0.268821,
     "end_time": "2023-04-26T15:03:41.658175",
     "exception": false,
     "start_time": "2023-04-26T15:03:41.389354",
     "status": "completed"
    },
    "tags": []
   },
   "outputs": [
    {
     "data": {
      "text/plain": [
       "<AxesSubplot:>"
      ]
     },
     "execution_count": 11,
     "metadata": {},
     "output_type": "execute_result"
    },
    {
     "data": {
      "image/png": "[encoded data removed]",
      "text/plain": [
       "<Figure size 640x480 with 1 Axes>"
      ]
     },
     "metadata": {},
     "output_type": "display_data"
    }
   ],
   "source": [
    "data['thalach'].hist()"
   ]
  },
  {
   "cell_type": "code",
   "execution_count": 12,
   "id": "aa0e9395",
   "metadata": {
    "execution": {
     "iopub.execute_input": "2023-04-26T15:03:41.687867Z",
     "iopub.status.busy": "2023-04-26T15:03:41.687435Z",
     "iopub.status.idle": "2023-04-26T15:03:41.934184Z",
     "shell.execute_reply": "2023-04-26T15:03:41.932851Z"
    },
    "papermill": {
     "duration": 0.264358,
     "end_time": "2023-04-26T15:03:41.936855",
     "exception": false,
     "start_time": "2023-04-26T15:03:41.672497",
     "status": "completed"
    },
    "tags": []
   },
   "outputs": [
    {
     "data": {
      "text/plain": [
       "<AxesSubplot:>"
      ]
     },
     "execution_count": 12,
     "metadata": {},
     "output_type": "execute_result"
    },
    {
     "data": {
      "image/png": "[encoded data removed]",
      "text/plain": [
       "<Figure size 640x480 with 1 Axes>"
      ]
     },
     "metadata": {},
     "output_type": "display_data"
    }
   ],
   "source": [
    "data['oldpeak'].hist()"
   ]
  },
  {
   "cell_type": "code",
   "execution_count": 13,
   "id": "abb5823e",
   "metadata": {
    "execution": {
     "iopub.execute_input": "2023-04-26T15:03:41.966762Z",
     "iopub.status.busy": "2023-04-26T15:03:41.966357Z",
     "iopub.status.idle": "2023-04-26T15:03:42.199026Z",
     "shell.execute_reply": "2023-04-26T15:03:42.197761Z"
    },
    "papermill": {
     "duration": 0.251073,
     "end_time": "2023-04-26T15:03:42.201817",
     "exception": false,
     "start_time": "2023-04-26T15:03:41.950744",
     "status": "completed"
    },
    "tags": []
   },
   "outputs": [
    {
     "data": {
      "image/png": "[encoded data removed]",
      "text/plain": [
       "<Figure size 640x480 with 1 Axes>"
      ]
     },
     "metadata": {},
     "output_type": "display_data"
    }
   ],
   "source": [
    "# Create a scatter plot of age vs. blood pressure\n",
    "plt.scatter(data[\"age\"], data[\"trestbps\"])\n",
    "\n",
    "# Add a title and labels to the plot\n",
    "plt.title(\"Age vs. Blood Pressure\")\n",
    "plt.xlabel(\"Age\")\n",
    "plt.ylabel(\"Blood Pressure\")\n",
    "\n",
    "# Show the plot\n",
    "plt.show()\n"
   ]
  },
  {
   "cell_type": "code",
   "execution_count": 14,
   "id": "43740523",
   "metadata": {
    "execution": {
     "iopub.execute_input": "2023-04-26T15:03:42.233006Z",
     "iopub.status.busy": "2023-04-26T15:03:42.232607Z",
     "iopub.status.idle": "2023-04-26T15:03:42.445872Z",
     "shell.execute_reply": "2023-04-26T15:03:42.444645Z"
    },
    "papermill": {
     "duration": 0.232844,
     "end_time": "2023-04-26T15:03:42.449401",
     "exception": false,
     "start_time": "2023-04-26T15:03:42.216557",
     "status": "completed"
    },
    "tags": []
   },
   "outputs": [
    {
     "data": {
      "image/png": "[encoded data removed]",
      "text/plain": [
       "<Figure size 640x480 with 1 Axes>"
      ]
     },
     "metadata": {},
     "output_type": "display_data"
    }
   ],
   "source": [
    "# Create a scatter plot of age vs. cholesterol\n",
    "plt.scatter(data[\"age\"], data[\"chol\"])\n",
    "\n",
    "# Add a title and labels to the plot\n",
    "plt.title(\"Age vs. Cholesterol\")\n",
    "plt.xlabel(\"Age\")\n",
    "plt.ylabel(\"Cholesterol\")\n",
    "\n",
    "# Show the plot\n",
    "plt.show()"
   ]
  },
  {
   "cell_type": "code",
   "execution_count": 15,
   "id": "4f90296b",
   "metadata": {
    "execution": {
     "iopub.execute_input": "2023-04-26T15:03:42.481681Z",
     "iopub.status.busy": "2023-04-26T15:03:42.481246Z",
     "iopub.status.idle": "2023-04-26T15:03:42.708198Z",
     "shell.execute_reply": "2023-04-26T15:03:42.706907Z"
    },
    "papermill": {
     "duration": 0.246553,
     "end_time": "2023-04-26T15:03:42.710796",
     "exception": false,
     "start_time": "2023-04-26T15:03:42.464243",
     "status": "completed"
    },
    "tags": []
   },
   "outputs": [
    {
     "data": {
      "image/png": "[encoded data removed]",
      "text/plain": [
       "<Figure size 640x480 with 1 Axes>"
      ]
     },
     "metadata": {},
     "output_type": "display_data"
    }
   ],
   "source": [
    "# Create a scatter plot of age vs. blood pressure\n",
    "plt.scatter(data[\"age\"], data[\"thalach\"])\n",
    "\n",
    "# Add a title and labels to the plot\n",
    "plt.title(\"Age vs. thalach\")\n",
    "plt.xlabel(\"Age\")\n",
    "plt.ylabel(\"thalach\")\n",
    "\n",
    "# Show the plot\n",
    "plt.show()"
   ]
  },
  {
   "cell_type": "code",
   "execution_count": 16,
   "id": "470db41f",
   "metadata": {
    "execution": {
     "iopub.execute_input": "2023-04-26T15:03:42.745468Z",
     "iopub.status.busy": "2023-04-26T15:03:42.744325Z",
     "iopub.status.idle": "2023-04-26T15:03:42.967032Z",
     "shell.execute_reply": "2023-04-26T15:03:42.965633Z"
    },
    "papermill": {
     "duration": 0.242737,
     "end_time": "2023-04-26T15:03:42.969949",
     "exception": false,
     "start_time": "2023-04-26T15:03:42.727212",
     "status": "completed"
    },
    "tags": []
   },
   "outputs": [
    {
     "data": {
      "image/png": "[encoded data removed]",
      "text/plain": [
       "<Figure size 640x480 with 1 Axes>"
      ]
     },
     "metadata": {},
     "output_type": "display_data"
    }
   ],
   "source": [
    "# Create a scatter plot of age vs. blood pressure\n",
    "plt.scatter(data[\"age\"], data[\"oldpeak\"])\n",
    "\n",
    "# Add a title and labels to the plot\n",
    "plt.title(\"Age vs. oldpeak\")\n",
    "plt.xlabel(\"Age\")\n",
    "plt.ylabel(\"oldpeak\")\n",
    "\n",
    "# Show the plot\n",
    "plt.show()"
   ]
  },
  {
   "cell_type": "code",
   "execution_count": 17,
   "id": "469b4bcc",
   "metadata": {
    "execution": {
     "iopub.execute_input": "2023-04-26T15:03:43.004214Z",
     "iopub.status.busy": "2023-04-26T15:03:43.003785Z",
     "iopub.status.idle": "2023-04-26T15:03:43.440872Z",
     "shell.execute_reply": "2023-04-26T15:03:43.439725Z"
    },
    "papermill": {
     "duration": 0.457509,
     "end_time": "2023-04-26T15:03:43.443608",
     "exception": false,
     "start_time": "2023-04-26T15:03:42.986099",
     "status": "completed"
    },
    "tags": []
   },
   "outputs": [
    {
     "data": {
      "text/plain": [
       "<AxesSubplot:>"
      ]
     },
     "execution_count": 17,
     "metadata": {},
     "output_type": "execute_result"
    },
    {
     "data": {
      "image/png": "[encoded data removed]",
      "text/plain": [
       "<Figure size 640x480 with 2 Axes>"
      ]
     },
     "metadata": {},
     "output_type": "display_data"
    }
   ],
   "source": [
    "import seaborn as sns\n",
    "\n",
    "corr_matrix = data.corr()\n",
    "sns.heatmap(corr_matrix, annot=False)\n"
   ]
  },
  {
   "cell_type": "code",
   "execution_count": 18,
   "id": "a0a12553",
   "metadata": {
    "execution": {
     "iopub.execute_input": "2023-04-26T15:03:43.479404Z",
     "iopub.status.busy": "2023-04-26T15:03:43.478418Z",
     "iopub.status.idle": "2023-04-26T15:03:43.485053Z",
     "shell.execute_reply": "2023-04-26T15:03:43.484068Z"
    },
    "papermill": {
     "duration": 0.027116,
     "end_time": "2023-04-26T15:03:43.487452",
     "exception": false,
     "start_time": "2023-04-26T15:03:43.460336",
     "status": "completed"
    },
    "tags": []
   },
   "outputs": [],
   "source": [
    "# Define a function to detect outliers using the z-score method\n",
    "def detect_outliers_zscore(data, threshold=3):\n",
    "    \"\"\"\n",
    "    Detect outliers in a pandas dataframe using the z-score method.\n",
    "    \"\"\"\n",
    "    z_scores = np.abs((data - data.mean()) / data.std())\n",
    "    return z_scores > threshold\n"
   ]
  },
  {
   "cell_type": "markdown",
   "id": "a801a917",
   "metadata": {
    "papermill": {
     "duration": 0.016266,
     "end_time": "2023-04-26T15:03:43.520410",
     "exception": false,
     "start_time": "2023-04-26T15:03:43.504144",
     "status": "completed"
    },
    "tags": []
   },
   "source": [
    "I will be finding out the **outliers** for\n",
    "\n",
    "1. _Age_\n",
    "2. _Cholesterol_\n",
    "3. _Resting Blood Pressure_\n",
    "4. _Fasting Blood Sugar_\n",
    "5. _ST depression_\n",
    "6. _Maximum Heart Rate_\n",
    "\n",
    "\n",
    "And will be aiming to remove them"
   ]
  },
  {
   "cell_type": "code",
   "execution_count": 19,
   "id": "a160ac04",
   "metadata": {
    "execution": {
     "iopub.execute_input": "2023-04-26T15:03:43.555616Z",
     "iopub.status.busy": "2023-04-26T15:03:43.554806Z",
     "iopub.status.idle": "2023-04-26T15:03:43.562386Z",
     "shell.execute_reply": "2023-04-26T15:03:43.561083Z"
    },
    "papermill": {
     "duration": 0.027914,
     "end_time": "2023-04-26T15:03:43.564693",
     "exception": false,
     "start_time": "2023-04-26T15:03:43.536779",
     "status": "completed"
    },
    "tags": []
   },
   "outputs": [
    {
     "name": "stdout",
     "output_type": "stream",
     "text": [
      "Number of age outliers: 0\n"
     ]
    }
   ],
   "source": [
    "# Apply the outlier detection function to the age column\n",
    "outliers_age = detect_outliers_zscore(data['age'])\n",
    "\n",
    "# Print the number of outliers detected\n",
    "print(f\"Number of age outliers: {outliers_age.sum()}\")"
   ]
  },
  {
   "cell_type": "code",
   "execution_count": 20,
   "id": "bd1c6a3f",
   "metadata": {
    "execution": {
     "iopub.execute_input": "2023-04-26T15:03:43.600446Z",
     "iopub.status.busy": "2023-04-26T15:03:43.599644Z",
     "iopub.status.idle": "2023-04-26T15:03:43.604361Z",
     "shell.execute_reply": "2023-04-26T15:03:43.603294Z"
    },
    "papermill": {
     "duration": 0.025254,
     "end_time": "2023-04-26T15:03:43.606779",
     "exception": false,
     "start_time": "2023-04-26T15:03:43.581525",
     "status": "completed"
    },
    "tags": []
   },
   "outputs": [],
   "source": [
    "import matplotlib.pyplot as plt"
   ]
  },
  {
   "cell_type": "code",
   "execution_count": 21,
   "id": "487a0605",
   "metadata": {
    "execution": {
     "iopub.execute_input": "2023-04-26T15:03:43.642809Z",
     "iopub.status.busy": "2023-04-26T15:03:43.641371Z",
     "iopub.status.idle": "2023-04-26T15:03:43.649941Z",
     "shell.execute_reply": "2023-04-26T15:03:43.648589Z"
    },
    "papermill": {
     "duration": 0.029198,
     "end_time": "2023-04-26T15:03:43.652554",
     "exception": false,
     "start_time": "2023-04-26T15:03:43.623356",
     "status": "completed"
    },
    "tags": []
   },
   "outputs": [
    {
     "name": "stdout",
     "output_type": "stream",
     "text": [
      "Number of age outliers: 13\n"
     ]
    }
   ],
   "source": [
    "# Apply the outlier detection function to the age column\n",
    "outliers_chol = detect_outliers_zscore(data['chol'])\n",
    "\n",
    "# Print the number of outliers detected\n",
    "print(f\"Number of age outliers: {outliers_chol.sum()}\")"
   ]
  },
  {
   "cell_type": "code",
   "execution_count": 22,
   "id": "6d46283a",
   "metadata": {
    "execution": {
     "iopub.execute_input": "2023-04-26T15:03:43.688248Z",
     "iopub.status.busy": "2023-04-26T15:03:43.687375Z",
     "iopub.status.idle": "2023-04-26T15:03:43.869654Z",
     "shell.execute_reply": "2023-04-26T15:03:43.868637Z"
    },
    "papermill": {
     "duration": 0.202707,
     "end_time": "2023-04-26T15:03:43.872058",
     "exception": false,
     "start_time": "2023-04-26T15:03:43.669351",
     "status": "completed"
    },
    "tags": []
   },
   "outputs": [
    {
     "data": {
      "image/png": "[encoded data removed]",
      "text/plain": [
       "<Figure size 640x480 with 1 Axes>"
      ]
     },
     "metadata": {},
     "output_type": "display_data"
    }
   ],
   "source": [
    "# Create a boxplot of the \"Cholesterol\" column\n",
    "plt.boxplot(data['chol'])\n",
    "plt.title('Boxplot of Cholesterol')\n",
    "plt.ylabel('Cholesterol')\n",
    "plt.show()"
   ]
  },
  {
   "cell_type": "code",
   "execution_count": 23,
   "id": "c1877bf0",
   "metadata": {
    "execution": {
     "iopub.execute_input": "2023-04-26T15:03:43.910170Z",
     "iopub.status.busy": "2023-04-26T15:03:43.909454Z",
     "iopub.status.idle": "2023-04-26T15:03:43.918837Z",
     "shell.execute_reply": "2023-04-26T15:03:43.917493Z"
    },
    "papermill": {
     "duration": 0.032108,
     "end_time": "2023-04-26T15:03:43.921235",
     "exception": false,
     "start_time": "2023-04-26T15:03:43.889127",
     "status": "completed"
    },
    "tags": []
   },
   "outputs": [
    {
     "name": "stdout",
     "output_type": "stream",
     "text": [
      "Number of age outliers: 7\n"
     ]
    }
   ],
   "source": [
    "# Apply the outlier detection function to the Resting Blood Pressure column\n",
    "outliers_restbp = detect_outliers_zscore(data['trestbps'])\n",
    "\n",
    "# Print the number of outliers detected\n",
    "print(f\"Number of age outliers: {outliers_restbp.sum()}\")"
   ]
  },
  {
   "cell_type": "code",
   "execution_count": 24,
   "id": "288f747b",
   "metadata": {
    "execution": {
     "iopub.execute_input": "2023-04-26T15:03:43.958758Z",
     "iopub.status.busy": "2023-04-26T15:03:43.958073Z",
     "iopub.status.idle": "2023-04-26T15:03:44.145493Z",
     "shell.execute_reply": "2023-04-26T15:03:44.144480Z"
    },
    "papermill": {
     "duration": 0.208642,
     "end_time": "2023-04-26T15:03:44.148083",
     "exception": false,
     "start_time": "2023-04-26T15:03:43.939441",
     "status": "completed"
    },
    "tags": []
   },
   "outputs": [
    {
     "data": {
      "image/png": "[encoded data removed]",
      "text/plain": [
       "<Figure size 640x480 with 1 Axes>"
      ]
     },
     "metadata": {},
     "output_type": "display_data"
    }
   ],
   "source": [
    "# Create a boxplot of the \"resting BP\" column\n",
    "plt.boxplot(data['trestbps'])\n",
    "plt.title('Boxplot of Resting Blood Pressure')\n",
    "plt.ylabel('Resting Blood Pressure')\n",
    "plt.show()"
   ]
  },
  {
   "cell_type": "code",
   "execution_count": 25,
   "id": "df410cbf",
   "metadata": {
    "execution": {
     "iopub.execute_input": "2023-04-26T15:03:44.185981Z",
     "iopub.status.busy": "2023-04-26T15:03:44.185148Z",
     "iopub.status.idle": "2023-04-26T15:03:44.193894Z",
     "shell.execute_reply": "2023-04-26T15:03:44.192399Z"
    },
    "papermill": {
     "duration": 0.030437,
     "end_time": "2023-04-26T15:03:44.196604",
     "exception": false,
     "start_time": "2023-04-26T15:03:44.166167",
     "status": "completed"
    },
    "tags": []
   },
   "outputs": [
    {
     "name": "stdout",
     "output_type": "stream",
     "text": [
      "Number of age outliers: 0\n"
     ]
    }
   ],
   "source": [
    "# Apply the outlier detection function to the age column\n",
    "outliers_blood_sugar = detect_outliers_zscore(data['fbs'])\n",
    "\n",
    "# Print the number of outliers detected\n",
    "print(f\"Number of age outliers: {outliers_blood_sugar.sum()}\")"
   ]
  },
  {
   "cell_type": "code",
   "execution_count": 26,
   "id": "6d2d389c",
   "metadata": {
    "execution": {
     "iopub.execute_input": "2023-04-26T15:03:44.235408Z",
     "iopub.status.busy": "2023-04-26T15:03:44.234949Z",
     "iopub.status.idle": "2023-04-26T15:03:44.243057Z",
     "shell.execute_reply": "2023-04-26T15:03:44.241643Z"
    },
    "papermill": {
     "duration": 0.030528,
     "end_time": "2023-04-26T15:03:44.245325",
     "exception": false,
     "start_time": "2023-04-26T15:03:44.214797",
     "status": "completed"
    },
    "tags": []
   },
   "outputs": [
    {
     "name": "stdout",
     "output_type": "stream",
     "text": [
      "Number of age outliers: 7\n"
     ]
    }
   ],
   "source": [
    "# Apply the outlier detection function to the age column\n",
    "outliers_St_depression = detect_outliers_zscore(data['oldpeak'])\n",
    "\n",
    "# Print the number of outliers detected\n",
    "print(f\"Number of age outliers: {outliers_St_depression.sum()}\")"
   ]
  },
  {
   "cell_type": "code",
   "execution_count": 27,
   "id": "75de7126",
   "metadata": {
    "execution": {
     "iopub.execute_input": "2023-04-26T15:03:44.282722Z",
     "iopub.status.busy": "2023-04-26T15:03:44.282235Z",
     "iopub.status.idle": "2023-04-26T15:03:44.472443Z",
     "shell.execute_reply": "2023-04-26T15:03:44.471077Z"
    },
    "papermill": {
     "duration": 0.212074,
     "end_time": "2023-04-26T15:03:44.475168",
     "exception": false,
     "start_time": "2023-04-26T15:03:44.263094",
     "status": "completed"
    },
    "tags": []
   },
   "outputs": [
    {
     "data": {
      "image/png": "[encoded data removed]",
      "text/plain": [
       "<Figure size 640x480 with 1 Axes>"
      ]
     },
     "metadata": {},
     "output_type": "display_data"
    }
   ],
   "source": [
    "# Create a boxplot of the \"ST depression\" column\n",
    "plt.boxplot(data['oldpeak'])\n",
    "plt.title('Boxplot of ST Depression')\n",
    "plt.ylabel('ST Depression')\n",
    "plt.show()"
   ]
  },
  {
   "cell_type": "code",
   "execution_count": 28,
   "id": "bb52c287",
   "metadata": {
    "execution": {
     "iopub.execute_input": "2023-04-26T15:03:44.513130Z",
     "iopub.status.busy": "2023-04-26T15:03:44.512693Z",
     "iopub.status.idle": "2023-04-26T15:03:44.520511Z",
     "shell.execute_reply": "2023-04-26T15:03:44.519284Z"
    },
    "papermill": {
     "duration": 0.029816,
     "end_time": "2023-04-26T15:03:44.523137",
     "exception": false,
     "start_time": "2023-04-26T15:03:44.493321",
     "status": "completed"
    },
    "tags": []
   },
   "outputs": [
    {
     "name": "stdout",
     "output_type": "stream",
     "text": [
      "Number of age outliers: 4\n"
     ]
    }
   ],
   "source": [
    "# Apply the outlier detection function to the thalach column\n",
    "outliers_max_heartrate = detect_outliers_zscore(data['thalach'])\n",
    "\n",
    "# Print the number of outliers detected\n",
    "print(f\"Number of age outliers: {outliers_max_heartrate.sum()}\")"
   ]
  },
  {
   "cell_type": "code",
   "execution_count": 29,
   "id": "ddbd81db",
   "metadata": {
    "execution": {
     "iopub.execute_input": "2023-04-26T15:03:44.562324Z",
     "iopub.status.busy": "2023-04-26T15:03:44.561897Z",
     "iopub.status.idle": "2023-04-26T15:03:44.750387Z",
     "shell.execute_reply": "2023-04-26T15:03:44.749379Z"
    },
    "papermill": {
     "duration": 0.210787,
     "end_time": "2023-04-26T15:03:44.753128",
     "exception": false,
     "start_time": "2023-04-26T15:03:44.542341",
     "status": "completed"
    },
    "tags": []
   },
   "outputs": [
    {
     "data": {
      "image/png": "[encoded data removed]",
      "text/plain": [
       "<Figure size 640x480 with 1 Axes>"
      ]
     },
     "metadata": {},
     "output_type": "display_data"
    }
   ],
   "source": [
    "# Create a boxplot of the \"thalach\" column\n",
    "plt.boxplot(data['thalach'])\n",
    "plt.title('Boxplot of maximum Heart Rate')\n",
    "plt.ylabel('Maximum HeartRate')\n",
    "plt.show()"
   ]
  },
  {
   "cell_type": "markdown",
   "id": "c4cf09a4",
   "metadata": {
    "papermill": {
     "duration": 0.017859,
     "end_time": "2023-04-26T15:03:44.789667",
     "exception": false,
     "start_time": "2023-04-26T15:03:44.771808",
     "status": "completed"
    },
    "tags": []
   },
   "source": [
    "Outliers are present in\n",
    "- Cholesterol\n",
    "- Resting Blood Pressure\n",
    "- ST depression\n",
    "- Maximum HeartRate"
   ]
  },
  {
   "cell_type": "code",
   "execution_count": 30,
   "id": "8b2011bc",
   "metadata": {
    "execution": {
     "iopub.execute_input": "2023-04-26T15:03:44.828586Z",
     "iopub.status.busy": "2023-04-26T15:03:44.828137Z",
     "iopub.status.idle": "2023-04-26T15:03:44.843235Z",
     "shell.execute_reply": "2023-04-26T15:03:44.842049Z"
    },
    "papermill": {
     "duration": 0.037929,
     "end_time": "2023-04-26T15:03:44.845938",
     "exception": false,
     "start_time": "2023-04-26T15:03:44.808009",
     "status": "completed"
    },
    "tags": []
   },
   "outputs": [],
   "source": [
    "from scipy import stats\n",
    "import pandas as pd\n",
    "import numpy as np\n",
    "\n",
    "# Load the dataset\n",
    "data_outlier = pd.read_csv('/kaggle/input/heart-disease-dataset/heart.csv')\n",
    "\n",
    "# Calculate the z-score for each data point in the \"Cholesterol\" column\n",
    "z_scores = stats.zscore(data_outlier['chol'])\n",
    "\n",
    "# Define a threshold for outliers (e.g., 3 standard deviations away from the mean)\n",
    "threshold = 2.5\n",
    "\n",
    "# Find the data points that have a z-score beyond the threshold\n",
    "outliers_cholesterol = np.where(np.abs(z_scores) > threshold)\n",
    "\n",
    "# Remove the outliers from the dataset\n",
    "data_outlier = data_outlier.drop(outliers_cholesterol[0])\n"
   ]
  },
  {
   "cell_type": "code",
   "execution_count": 31,
   "id": "4302f832",
   "metadata": {
    "execution": {
     "iopub.execute_input": "2023-04-26T15:03:44.885571Z",
     "iopub.status.busy": "2023-04-26T15:03:44.884785Z",
     "iopub.status.idle": "2023-04-26T15:03:44.892867Z",
     "shell.execute_reply": "2023-04-26T15:03:44.891544Z"
    },
    "papermill": {
     "duration": 0.031242,
     "end_time": "2023-04-26T15:03:44.895545",
     "exception": false,
     "start_time": "2023-04-26T15:03:44.864303",
     "status": "completed"
    },
    "tags": []
   },
   "outputs": [
    {
     "name": "stdout",
     "output_type": "stream",
     "text": [
      "Number of age outliers: 13\n"
     ]
    }
   ],
   "source": [
    "# Apply the outlier detection function to the age column\n",
    "outliers_chol = detect_outliers_zscore(data['chol'])\n",
    "\n",
    "# Print the number of outliers detected\n",
    "print(f\"Number of age outliers: {outliers_chol.sum()}\")"
   ]
  },
  {
   "cell_type": "code",
   "execution_count": 32,
   "id": "b3999c8b",
   "metadata": {
    "execution": {
     "iopub.execute_input": "2023-04-26T15:03:44.934418Z",
     "iopub.status.busy": "2023-04-26T15:03:44.933586Z",
     "iopub.status.idle": "2023-04-26T15:03:44.942220Z",
     "shell.execute_reply": "2023-04-26T15:03:44.940747Z"
    },
    "papermill": {
     "duration": 0.030976,
     "end_time": "2023-04-26T15:03:44.944674",
     "exception": false,
     "start_time": "2023-04-26T15:03:44.913698",
     "status": "completed"
    },
    "tags": []
   },
   "outputs": [
    {
     "name": "stdout",
     "output_type": "stream",
     "text": [
      "Number of age outliers: 0\n"
     ]
    }
   ],
   "source": [
    "# Apply the outlier detection function to the age column\n",
    "outliers_chol = detect_outliers_zscore(data_outlier['chol'])\n",
    "\n",
    "# Print the number of outliers detected\n",
    "print(f\"Number of age outliers: {outliers_chol.sum()}\")"
   ]
  },
  {
   "cell_type": "code",
   "execution_count": 33,
   "id": "a7f91c68",
   "metadata": {
    "execution": {
     "iopub.execute_input": "2023-04-26T15:03:44.983215Z",
     "iopub.status.busy": "2023-04-26T15:03:44.982789Z",
     "iopub.status.idle": "2023-04-26T15:03:45.164389Z",
     "shell.execute_reply": "2023-04-26T15:03:45.163129Z"
    },
    "papermill": {
     "duration": 0.204058,
     "end_time": "2023-04-26T15:03:45.167149",
     "exception": false,
     "start_time": "2023-04-26T15:03:44.963091",
     "status": "completed"
    },
    "tags": []
   },
   "outputs": [
    {
     "data": {
      "image/png": "[encoded data removed]",
      "text/plain": [
       "<Figure size 640x480 with 1 Axes>"
      ]
     },
     "metadata": {},
     "output_type": "display_data"
    }
   ],
   "source": [
    "# Create a boxplot of the \"chol\" column in the rmoved outlier part\n",
    "plt.boxplot(data_outlier['chol'])\n",
    "plt.title('Boxplot of Cholesterol')\n",
    "plt.ylabel('Cholesterol')\n",
    "plt.show()"
   ]
  },
  {
   "cell_type": "markdown",
   "id": "e740fe14",
   "metadata": {
    "papermill": {
     "duration": 0.018672,
     "end_time": "2023-04-26T15:03:45.205060",
     "exception": false,
     "start_time": "2023-04-26T15:03:45.186388",
     "status": "completed"
    },
    "tags": []
   },
   "source": [
    "I used the threshold value as 3 while searching for the outliers where as i have to use the threshold value of 2.5 whole removing them"
   ]
  },
  {
   "cell_type": "code",
   "execution_count": 34,
   "id": "7e1c4639",
   "metadata": {
    "execution": {
     "iopub.execute_input": "2023-04-26T15:03:45.244846Z",
     "iopub.status.busy": "2023-04-26T15:03:45.244420Z",
     "iopub.status.idle": "2023-04-26T15:03:45.255711Z",
     "shell.execute_reply": "2023-04-26T15:03:45.254746Z"
    },
    "papermill": {
     "duration": 0.034155,
     "end_time": "2023-04-26T15:03:45.258044",
     "exception": false,
     "start_time": "2023-04-26T15:03:45.223889",
     "status": "completed"
    },
    "tags": []
   },
   "outputs": [],
   "source": [
    "# Calculate the IQR for the \"Resting Blood Pressure\" column\n",
    "q1 = data_outlier['trestbps'].quantile(0.25)\n",
    "q3 = data_outlier['trestbps'].quantile(0.75)\n",
    "iqr = q3 - q1\n",
    "\n",
    "# Define a range for outliers (e.g., 1.5 times the IQR below the 25th percentile or above the 75th percentile)\n",
    "lower_bound = q1 - 1.5*iqr\n",
    "upper_bound = q3 + 1.5*iqr\n",
    "\n",
    "# Find the data points that fall outside the range\n",
    "outliers = data_outlier[(data_outlier['trestbps'] < lower_bound) | (data_outlier['trestbps'] > upper_bound)]\n",
    "\n",
    "# Remove the outliers from the dataset\n",
    "data_outlier = data_outlier.drop(outliers.index)\n"
   ]
  },
  {
   "cell_type": "code",
   "execution_count": 35,
   "id": "ad4eb310",
   "metadata": {
    "execution": {
     "iopub.execute_input": "2023-04-26T15:03:45.297864Z",
     "iopub.status.busy": "2023-04-26T15:03:45.297194Z",
     "iopub.status.idle": "2023-04-26T15:03:45.640073Z",
     "shell.execute_reply": "2023-04-26T15:03:45.638828Z"
    },
    "papermill": {
     "duration": 0.365936,
     "end_time": "2023-04-26T15:03:45.642766",
     "exception": false,
     "start_time": "2023-04-26T15:03:45.276830",
     "status": "completed"
    },
    "tags": []
   },
   "outputs": [
    {
     "data": {
      "image/png": "[encoded data removed]",
      "text/plain": [
       "<Figure size 640x480 with 1 Axes>"
      ]
     },
     "metadata": {},
     "output_type": "display_data"
    }
   ],
   "source": [
    "# Create a boxplot of the \"chol\" column in the rmoved outlier part\n",
    "plt.boxplot(data_outlier['trestbps'])\n",
    "plt.title('Boxplot of Resting Blood Pressure')\n",
    "plt.ylabel('Resting Blood Pressure')\n",
    "plt.show()"
   ]
  },
  {
   "cell_type": "markdown",
   "id": "52e7796c",
   "metadata": {
    "papermill": {
     "duration": 0.018792,
     "end_time": "2023-04-26T15:03:45.681194",
     "exception": false,
     "start_time": "2023-04-26T15:03:45.662402",
     "status": "completed"
    },
    "tags": []
   },
   "source": [
    "## Now stsarting with creating the model\n",
    "\n",
    "using the sklearn model"
   ]
  },
  {
   "cell_type": "code",
   "execution_count": 36,
   "id": "436cbbc0",
   "metadata": {
    "execution": {
     "iopub.execute_input": "2023-04-26T15:03:45.721235Z",
     "iopub.status.busy": "2023-04-26T15:03:45.720759Z",
     "iopub.status.idle": "2023-04-26T15:03:45.950936Z",
     "shell.execute_reply": "2023-04-26T15:03:45.949936Z"
    },
    "papermill": {
     "duration": 0.253156,
     "end_time": "2023-04-26T15:03:45.953743",
     "exception": false,
     "start_time": "2023-04-26T15:03:45.700587",
     "status": "completed"
    },
    "tags": []
   },
   "outputs": [],
   "source": [
    "from sklearn.model_selection import train_test_split\n",
    "\n",
    "X = data.drop('target', axis=1)\n",
    "y = data['target']\n",
    "X_train, X_test, y_train, y_test = train_test_split(X, y, test_size=0.2, random_state=42)\n"
   ]
  },
  {
   "cell_type": "code",
   "execution_count": 37,
   "id": "ec75769d",
   "metadata": {
    "execution": {
     "iopub.execute_input": "2023-04-26T15:03:45.995922Z",
     "iopub.status.busy": "2023-04-26T15:03:45.994614Z",
     "iopub.status.idle": "2023-04-26T15:03:46.007584Z",
     "shell.execute_reply": "2023-04-26T15:03:46.006202Z"
    },
    "papermill": {
     "duration": 0.037508,
     "end_time": "2023-04-26T15:03:46.010504",
     "exception": false,
     "start_time": "2023-04-26T15:03:45.972996",
     "status": "completed"
    },
    "tags": []
   },
   "outputs": [],
   "source": [
    "from sklearn.preprocessing import StandardScaler\n",
    "\n",
    "scaler = StandardScaler()\n",
    "X_train = scaler.fit_transform(X_train)\n",
    "X_test = scaler.transform(X_test)\n"
   ]
  },
  {
   "cell_type": "code",
   "execution_count": 38,
   "id": "e021c56f",
   "metadata": {
    "execution": {
     "iopub.execute_input": "2023-04-26T15:03:46.050638Z",
     "iopub.status.busy": "2023-04-26T15:03:46.050125Z",
     "iopub.status.idle": "2023-04-26T15:03:46.166677Z",
     "shell.execute_reply": "2023-04-26T15:03:46.164857Z"
    },
    "papermill": {
     "duration": 0.141885,
     "end_time": "2023-04-26T15:03:46.171377",
     "exception": false,
     "start_time": "2023-04-26T15:03:46.029492",
     "status": "completed"
    },
    "tags": []
   },
   "outputs": [
    {
     "data": {
      "text/plain": [
       "LogisticRegression(random_state=42)"
      ]
     },
     "execution_count": 38,
     "metadata": {},
     "output_type": "execute_result"
    }
   ],
   "source": [
    "from sklearn.linear_model import LogisticRegression\n",
    "\n",
    "model = LogisticRegression(random_state=42)\n",
    "model.fit(X_train, y_train)\n"
   ]
  },
  {
   "cell_type": "code",
   "execution_count": 39,
   "id": "3fcd9254",
   "metadata": {
    "execution": {
     "iopub.execute_input": "2023-04-26T15:03:46.273751Z",
     "iopub.status.busy": "2023-04-26T15:03:46.273283Z",
     "iopub.status.idle": "2023-04-26T15:03:46.286242Z",
     "shell.execute_reply": "2023-04-26T15:03:46.284886Z"
    },
    "papermill": {
     "duration": 0.068023,
     "end_time": "2023-04-26T15:03:46.288621",
     "exception": false,
     "start_time": "2023-04-26T15:03:46.220598",
     "status": "completed"
    },
    "tags": []
   },
   "outputs": [
    {
     "name": "stdout",
     "output_type": "stream",
     "text": [
      "Accuracy: 0.7951219512195122\n",
      "Precision: 0.7563025210084033\n",
      "Recall: 0.8737864077669902\n",
      "F1-score: 0.8108108108108107\n"
     ]
    }
   ],
   "source": [
    "from sklearn.metrics import accuracy_score, precision_score, recall_score, f1_score\n",
    "\n",
    "y_pred = model.predict(X_test)\n",
    "print('Accuracy:', accuracy_score(y_test, y_pred))\n",
    "print('Precision:', precision_score(y_test, y_pred))\n",
    "print('Recall:', recall_score(y_test, y_pred))\n",
    "print('F1-score:', f1_score(y_test, y_pred))\n"
   ]
  },
  {
   "cell_type": "markdown",
   "id": "92419b05",
   "metadata": {
    "papermill": {
     "duration": 0.019156,
     "end_time": "2023-04-26T15:03:46.327167",
     "exception": false,
     "start_time": "2023-04-26T15:03:46.308011",
     "status": "completed"
    },
    "tags": []
   },
   "source": [
    "## Using the famous model algorithms"
   ]
  },
  {
   "cell_type": "code",
   "execution_count": 40,
   "id": "10805446",
   "metadata": {
    "execution": {
     "iopub.execute_input": "2023-04-26T15:03:46.369157Z",
     "iopub.status.busy": "2023-04-26T15:03:46.367956Z",
     "iopub.status.idle": "2023-04-26T15:03:47.155547Z",
     "shell.execute_reply": "2023-04-26T15:03:47.154126Z"
    },
    "papermill": {
     "duration": 0.811139,
     "end_time": "2023-04-26T15:03:47.158149",
     "exception": false,
     "start_time": "2023-04-26T15:03:46.347010",
     "status": "completed"
    },
    "tags": []
   },
   "outputs": [
    {
     "name": "stdout",
     "output_type": "stream",
     "text": [
      "LogisticRegression\n",
      "Accuracy: 0.7951219512195122\n",
      "Precision: 0.7563025210084033\n",
      "Recall: 0.8737864077669902\n",
      "F1-score: 0.8108108108108107\n",
      "\n",
      "DecisionTreeClassifier\n",
      "Accuracy: 0.9853658536585366\n",
      "Precision: 1.0\n",
      "Recall: 0.970873786407767\n",
      "F1-score: 0.9852216748768473\n",
      "\n",
      "RandomForestClassifier\n",
      "Accuracy: 0.9853658536585366\n",
      "Precision: 1.0\n",
      "Recall: 0.970873786407767\n",
      "F1-score: 0.9852216748768473\n",
      "\n",
      "SVC\n",
      "Accuracy: 0.8878048780487805\n",
      "Precision: 0.8508771929824561\n",
      "Recall: 0.941747572815534\n",
      "F1-score: 0.8940092165898617\n",
      "\n",
      "KNeighborsClassifier\n",
      "Accuracy: 0.8341463414634146\n",
      "Precision: 0.8\n",
      "Recall: 0.8932038834951457\n",
      "F1-score: 0.8440366972477065\n",
      "\n",
      "GaussianNB\n",
      "Accuracy: 0.8\n",
      "Precision: 0.7540983606557377\n",
      "Recall: 0.8932038834951457\n",
      "F1-score: 0.8177777777777777\n",
      "\n",
      "GradientBoostingClassifier\n",
      "Accuracy: 0.9317073170731708\n",
      "Precision: 0.9158878504672897\n",
      "Recall: 0.9514563106796117\n",
      "F1-score: 0.9333333333333335\n",
      "\n"
     ]
    }
   ],
   "source": [
    "from sklearn.linear_model import LogisticRegression\n",
    "from sklearn.tree import DecisionTreeClassifier\n",
    "from sklearn.ensemble import RandomForestClassifier, GradientBoostingClassifier\n",
    "from sklearn.svm import SVC\n",
    "from sklearn.neighbors import KNeighborsClassifier\n",
    "from sklearn.naive_bayes import GaussianNB\n",
    "\n",
    "# Define the models\n",
    "models = [\n",
    "    LogisticRegression(random_state=42),\n",
    "    DecisionTreeClassifier(random_state=42),\n",
    "    RandomForestClassifier(random_state=42),\n",
    "    SVC(random_state=42),\n",
    "    KNeighborsClassifier(),\n",
    "    GaussianNB(),\n",
    "    GradientBoostingClassifier(random_state=42)\n",
    "]\n",
    "\n",
    "# Train and evaluate each model\n",
    "for model in models:\n",
    "    model.fit(X_train, y_train)\n",
    "    y_pred = model.predict(X_test)\n",
    "    print(type(model).__name__)\n",
    "    print('Accuracy:', accuracy_score(y_test, y_pred))\n",
    "    print('Precision:', precision_score(y_test, y_pred))\n",
    "    print('Recall:', recall_score(y_test, y_pred))\n",
    "    print('F1-score:', f1_score(y_test, y_pred))\n",
    "    print()\n"
   ]
  },
  {
   "cell_type": "code",
   "execution_count": null,
   "id": "ea89e9d5",
   "metadata": {
    "papermill": {
     "duration": 0.01947,
     "end_time": "2023-04-26T15:03:47.197368",
     "exception": false,
     "start_time": "2023-04-26T15:03:47.177898",
     "status": "completed"
    },
    "tags": []
   },
   "outputs": [],
   "source": []
  }
 ],
 "metadata": {
  "kernelspec": {
   "display_name": "Python 3",
   "language": "python",
   "name": "python3"
  },
  "language_info": {
   "codemirror_mode": {
    "name": "ipython",
    "version": 3
   },
   "file_extension": ".py",
   "mimetype": "text/x-python",
   "name": "python",
   "nbconvert_exporter": "python",
   "pygments_lexer": "ipython3",
   "version": "3.7.12"
  },
  "papermill": {
   "default_parameters": {},
   "duration": 19.95328,
   "end_time": "2023-04-26T15:03:48.040860",
   "environment_variables": {},
   "exception": null,
   "input_path": "__notebook__.ipynb",
   "output_path": "__notebook__.ipynb",
   "parameters": {},
   "start_time": "2023-04-26T15:03:28.087580",
   "version": "2.4.0"
  }
 },
 "nbformat": 4,
 "nbformat_minor": 5
}
