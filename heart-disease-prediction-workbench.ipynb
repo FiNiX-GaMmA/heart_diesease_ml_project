{
 "cells": [
  {
   "cell_type": "markdown",
   "id": "6af0028e",
   "metadata": {
    "papermill": {
     "duration": 0.005783,
     "end_time": "2023-03-28T04:49:02.439907",
     "exception": false,
     "start_time": "2023-03-28T04:49:02.434124",
     "status": "completed"
    },
    "tags": []
   },
   "source": [
    "# A mchine learning project on **Heart Diseases**"
   ]
  },
  {
   "cell_type": "markdown",
   "id": "bc7a507b",
   "metadata": {
    "papermill": {
     "duration": 0.004315,
     "end_time": "2023-03-28T04:49:02.449037",
     "exception": false,
     "start_time": "2023-03-28T04:49:02.444722",
     "status": "completed"
    },
    "tags": []
   },
   "source": [
    "## This is my **3rd semester** final machine learning project on _Heart Disease classification_"
   ]
  },
  {
   "cell_type": "markdown",
   "id": "e6f9469e",
   "metadata": {
    "papermill": {
     "duration": 0.004394,
     "end_time": "2023-03-28T04:49:02.458516",
     "exception": false,
     "start_time": "2023-03-28T04:49:02.454122",
     "status": "completed"
    },
    "tags": []
   },
   "source": [
    "Context\n",
    "\n",
    "This data set dates from 1988 and consists of four databases: Cleveland, Hungary, Switzerland, and Long Beach V. It contains 76 attributes, including the predicted attribute, but all published experiments refer to using a subset of 14 of them. The \"target\" field refers to the presence of heart disease in the patient. It is integer valued 0 = no disease and 1 = disease."
   ]
  },
  {
   "cell_type": "markdown",
   "id": "574179da",
   "metadata": {
    "papermill": {
     "duration": 0.004383,
     "end_time": "2023-03-28T04:49:02.467916",
     "exception": false,
     "start_time": "2023-03-28T04:49:02.463533",
     "status": "completed"
    },
    "tags": []
   },
   "source": [
    "\n",
    "### Attributes\n",
    "- age\n",
    "- sex\n",
    "- chest pain type (4 values)\n",
    "- resting blood pressure\n",
    "- serum cholestoral in mg/dl\n",
    "- fasting blood sugar > 120 mg/dl\n",
    "- resting electrocardiographic results (values 0,1,2)\n",
    "- maximum heart rate achieved\n",
    "- exercise induced angina\n",
    "- oldpeak = ST depression induced by exercise relative to rest\n",
    "- the slope of the peak exercise ST segment\n",
    "  number of major vessels (0-3) colored by flourosopy\n",
    "- thal: 0 = normal; 1 = fixed defect; 2 = reversable defect\n",
    "\n",
    "The names and social security numbers of the patients were recently removed from the database, replaced with dummy values.\n",
    "\n"
   ]
  },
  {
   "cell_type": "code",
   "execution_count": 1,
   "id": "09340d02",
   "metadata": {
    "_cell_guid": "b1076dfc-b9ad-4769-8c92-a6c4dae69d19",
    "_uuid": "8f2839f25d086af736a60e9eeb907d3b93b6e0e5",
    "execution": {
     "iopub.execute_input": "2023-03-28T04:49:02.479244Z",
     "iopub.status.busy": "2023-03-28T04:49:02.478681Z",
     "iopub.status.idle": "2023-03-28T04:49:02.499102Z",
     "shell.execute_reply": "2023-03-28T04:49:02.498071Z"
    },
    "papermill": {
     "duration": 0.029423,
     "end_time": "2023-03-28T04:49:02.501992",
     "exception": false,
     "start_time": "2023-03-28T04:49:02.472569",
     "status": "completed"
    },
    "tags": []
   },
   "outputs": [
    {
     "name": "stdout",
     "output_type": "stream",
     "text": [
      "/kaggle/input/heart-disease-dataset/heart.csv\n"
     ]
    }
   ],
   "source": [
    "# This Python 3 environment comes with many helpful analytics libraries installed\n",
    "# It is defined by the kaggle/python Docker image: https://github.com/kaggle/docker-python\n",
    "# For example, here's several helpful packages to load\n",
    "\n",
    "import numpy as np # linear algebra\n",
    "import pandas as pd # data processing, CSV file I/O (e.g. pd.read_csv)\n",
    "\n",
    "# Input data files are available in the read-only \"../input/\" directory\n",
    "# For example, running this (by clicking run or pressing Shift+Enter) will list all files under the input directory\n",
    "\n",
    "import os\n",
    "for dirname, _, filenames in os.walk('/kaggle/input'):\n",
    "    for filename in filenames:\n",
    "        print(os.path.join(dirname, filename))\n",
    "\n",
    "# You can write up to 20GB to the current directory (/kaggle/working/) that gets preserved as output when you create a version using \"Save & Run All\" \n",
    "# You can also write temporary files to /kaggle/temp/, but they won't be saved outside of the current session"
   ]
  },
  {
   "cell_type": "code",
   "execution_count": 2,
   "id": "2bed9193",
   "metadata": {
    "execution": {
     "iopub.execute_input": "2023-03-28T04:49:02.516305Z",
     "iopub.status.busy": "2023-03-28T04:49:02.514406Z",
     "iopub.status.idle": "2023-03-28T04:49:02.578770Z",
     "shell.execute_reply": "2023-03-28T04:49:02.577176Z"
    },
    "papermill": {
     "duration": 0.073818,
     "end_time": "2023-03-28T04:49:02.581706",
     "exception": false,
     "start_time": "2023-03-28T04:49:02.507888",
     "status": "completed"
    },
    "tags": []
   },
   "outputs": [
    {
     "data": {
      "text/html": [
       "<div>\n",
       "<style scoped>\n",
       "    .dataframe tbody tr th:only-of-type {\n",
       "        vertical-align: middle;\n",
       "    }\n",
       "\n",
       "    .dataframe tbody tr th {\n",
       "        vertical-align: top;\n",
       "    }\n",
       "\n",
       "    .dataframe thead th {\n",
       "        text-align: right;\n",
       "    }\n",
       "</style>\n",
       "<table border=\"1\" class=\"dataframe\">\n",
       "  <thead>\n",
       "    <tr style=\"text-align: right;\">\n",
       "      <th></th>\n",
       "      <th>age</th>\n",
       "      <th>sex</th>\n",
       "      <th>cp</th>\n",
       "      <th>trestbps</th>\n",
       "      <th>chol</th>\n",
       "      <th>fbs</th>\n",
       "      <th>restecg</th>\n",
       "      <th>thalach</th>\n",
       "      <th>exang</th>\n",
       "      <th>oldpeak</th>\n",
       "      <th>slope</th>\n",
       "      <th>ca</th>\n",
       "      <th>thal</th>\n",
       "      <th>target</th>\n",
       "    </tr>\n",
       "  </thead>\n",
       "  <tbody>\n",
       "    <tr>\n",
       "      <th>0</th>\n",
       "      <td>52</td>\n",
       "      <td>1</td>\n",
       "      <td>0</td>\n",
       "      <td>125</td>\n",
       "      <td>212</td>\n",
       "      <td>0</td>\n",
       "      <td>1</td>\n",
       "      <td>168</td>\n",
       "      <td>0</td>\n",
       "      <td>1.0</td>\n",
       "      <td>2</td>\n",
       "      <td>2</td>\n",
       "      <td>3</td>\n",
       "      <td>0</td>\n",
       "    </tr>\n",
       "    <tr>\n",
       "      <th>1</th>\n",
       "      <td>53</td>\n",
       "      <td>1</td>\n",
       "      <td>0</td>\n",
       "      <td>140</td>\n",
       "      <td>203</td>\n",
       "      <td>1</td>\n",
       "      <td>0</td>\n",
       "      <td>155</td>\n",
       "      <td>1</td>\n",
       "      <td>3.1</td>\n",
       "      <td>0</td>\n",
       "      <td>0</td>\n",
       "      <td>3</td>\n",
       "      <td>0</td>\n",
       "    </tr>\n",
       "    <tr>\n",
       "      <th>2</th>\n",
       "      <td>70</td>\n",
       "      <td>1</td>\n",
       "      <td>0</td>\n",
       "      <td>145</td>\n",
       "      <td>174</td>\n",
       "      <td>0</td>\n",
       "      <td>1</td>\n",
       "      <td>125</td>\n",
       "      <td>1</td>\n",
       "      <td>2.6</td>\n",
       "      <td>0</td>\n",
       "      <td>0</td>\n",
       "      <td>3</td>\n",
       "      <td>0</td>\n",
       "    </tr>\n",
       "    <tr>\n",
       "      <th>3</th>\n",
       "      <td>61</td>\n",
       "      <td>1</td>\n",
       "      <td>0</td>\n",
       "      <td>148</td>\n",
       "      <td>203</td>\n",
       "      <td>0</td>\n",
       "      <td>1</td>\n",
       "      <td>161</td>\n",
       "      <td>0</td>\n",
       "      <td>0.0</td>\n",
       "      <td>2</td>\n",
       "      <td>1</td>\n",
       "      <td>3</td>\n",
       "      <td>0</td>\n",
       "    </tr>\n",
       "    <tr>\n",
       "      <th>4</th>\n",
       "      <td>62</td>\n",
       "      <td>0</td>\n",
       "      <td>0</td>\n",
       "      <td>138</td>\n",
       "      <td>294</td>\n",
       "      <td>1</td>\n",
       "      <td>1</td>\n",
       "      <td>106</td>\n",
       "      <td>0</td>\n",
       "      <td>1.9</td>\n",
       "      <td>1</td>\n",
       "      <td>3</td>\n",
       "      <td>2</td>\n",
       "      <td>0</td>\n",
       "    </tr>\n",
       "    <tr>\n",
       "      <th>...</th>\n",
       "      <td>...</td>\n",
       "      <td>...</td>\n",
       "      <td>...</td>\n",
       "      <td>...</td>\n",
       "      <td>...</td>\n",
       "      <td>...</td>\n",
       "      <td>...</td>\n",
       "      <td>...</td>\n",
       "      <td>...</td>\n",
       "      <td>...</td>\n",
       "      <td>...</td>\n",
       "      <td>...</td>\n",
       "      <td>...</td>\n",
       "      <td>...</td>\n",
       "    </tr>\n",
       "    <tr>\n",
       "      <th>1020</th>\n",
       "      <td>59</td>\n",
       "      <td>1</td>\n",
       "      <td>1</td>\n",
       "      <td>140</td>\n",
       "      <td>221</td>\n",
       "      <td>0</td>\n",
       "      <td>1</td>\n",
       "      <td>164</td>\n",
       "      <td>1</td>\n",
       "      <td>0.0</td>\n",
       "      <td>2</td>\n",
       "      <td>0</td>\n",
       "      <td>2</td>\n",
       "      <td>1</td>\n",
       "    </tr>\n",
       "    <tr>\n",
       "      <th>1021</th>\n",
       "      <td>60</td>\n",
       "      <td>1</td>\n",
       "      <td>0</td>\n",
       "      <td>125</td>\n",
       "      <td>258</td>\n",
       "      <td>0</td>\n",
       "      <td>0</td>\n",
       "      <td>141</td>\n",
       "      <td>1</td>\n",
       "      <td>2.8</td>\n",
       "      <td>1</td>\n",
       "      <td>1</td>\n",
       "      <td>3</td>\n",
       "      <td>0</td>\n",
       "    </tr>\n",
       "    <tr>\n",
       "      <th>1022</th>\n",
       "      <td>47</td>\n",
       "      <td>1</td>\n",
       "      <td>0</td>\n",
       "      <td>110</td>\n",
       "      <td>275</td>\n",
       "      <td>0</td>\n",
       "      <td>0</td>\n",
       "      <td>118</td>\n",
       "      <td>1</td>\n",
       "      <td>1.0</td>\n",
       "      <td>1</td>\n",
       "      <td>1</td>\n",
       "      <td>2</td>\n",
       "      <td>0</td>\n",
       "    </tr>\n",
       "    <tr>\n",
       "      <th>1023</th>\n",
       "      <td>50</td>\n",
       "      <td>0</td>\n",
       "      <td>0</td>\n",
       "      <td>110</td>\n",
       "      <td>254</td>\n",
       "      <td>0</td>\n",
       "      <td>0</td>\n",
       "      <td>159</td>\n",
       "      <td>0</td>\n",
       "      <td>0.0</td>\n",
       "      <td>2</td>\n",
       "      <td>0</td>\n",
       "      <td>2</td>\n",
       "      <td>1</td>\n",
       "    </tr>\n",
       "    <tr>\n",
       "      <th>1024</th>\n",
       "      <td>54</td>\n",
       "      <td>1</td>\n",
       "      <td>0</td>\n",
       "      <td>120</td>\n",
       "      <td>188</td>\n",
       "      <td>0</td>\n",
       "      <td>1</td>\n",
       "      <td>113</td>\n",
       "      <td>0</td>\n",
       "      <td>1.4</td>\n",
       "      <td>1</td>\n",
       "      <td>1</td>\n",
       "      <td>3</td>\n",
       "      <td>0</td>\n",
       "    </tr>\n",
       "  </tbody>\n",
       "</table>\n",
       "<p>1025 rows × 14 columns</p>\n",
       "</div>"
      ],
      "text/plain": [
       "      age  sex  cp  trestbps  chol  fbs  restecg  thalach  exang  oldpeak  \\\n",
       "0      52    1   0       125   212    0        1      168      0      1.0   \n",
       "1      53    1   0       140   203    1        0      155      1      3.1   \n",
       "2      70    1   0       145   174    0        1      125      1      2.6   \n",
       "3      61    1   0       148   203    0        1      161      0      0.0   \n",
       "4      62    0   0       138   294    1        1      106      0      1.9   \n",
       "...   ...  ...  ..       ...   ...  ...      ...      ...    ...      ...   \n",
       "1020   59    1   1       140   221    0        1      164      1      0.0   \n",
       "1021   60    1   0       125   258    0        0      141      1      2.8   \n",
       "1022   47    1   0       110   275    0        0      118      1      1.0   \n",
       "1023   50    0   0       110   254    0        0      159      0      0.0   \n",
       "1024   54    1   0       120   188    0        1      113      0      1.4   \n",
       "\n",
       "      slope  ca  thal  target  \n",
       "0         2   2     3       0  \n",
       "1         0   0     3       0  \n",
       "2         0   0     3       0  \n",
       "3         2   1     3       0  \n",
       "4         1   3     2       0  \n",
       "...     ...  ..   ...     ...  \n",
       "1020      2   0     2       1  \n",
       "1021      1   1     3       0  \n",
       "1022      1   1     2       0  \n",
       "1023      2   0     2       1  \n",
       "1024      1   1     3       0  \n",
       "\n",
       "[1025 rows x 14 columns]"
      ]
     },
     "execution_count": 2,
     "metadata": {},
     "output_type": "execute_result"
    }
   ],
   "source": [
    "data = pd.read_csv(r'/kaggle/input/heart-disease-dataset/heart.csv')\n",
    "data"
   ]
  },
  {
   "cell_type": "code",
   "execution_count": 3,
   "id": "36706e26",
   "metadata": {
    "execution": {
     "iopub.execute_input": "2023-03-28T04:49:02.595976Z",
     "iopub.status.busy": "2023-03-28T04:49:02.595196Z",
     "iopub.status.idle": "2023-03-28T04:49:02.602543Z",
     "shell.execute_reply": "2023-03-28T04:49:02.601150Z"
    },
    "papermill": {
     "duration": 0.017456,
     "end_time": "2023-03-28T04:49:02.605584",
     "exception": false,
     "start_time": "2023-03-28T04:49:02.588128",
     "status": "completed"
    },
    "tags": []
   },
   "outputs": [
    {
     "data": {
      "text/plain": [
       "(1025, 14)"
      ]
     },
     "execution_count": 3,
     "metadata": {},
     "output_type": "execute_result"
    }
   ],
   "source": [
    "data.shape"
   ]
  },
  {
   "cell_type": "code",
   "execution_count": 4,
   "id": "78b9820a",
   "metadata": {
    "execution": {
     "iopub.execute_input": "2023-03-28T04:49:02.619107Z",
     "iopub.status.busy": "2023-03-28T04:49:02.618535Z",
     "iopub.status.idle": "2023-03-28T04:49:02.651088Z",
     "shell.execute_reply": "2023-03-28T04:49:02.649289Z"
    },
    "papermill": {
     "duration": 0.043191,
     "end_time": "2023-03-28T04:49:02.654157",
     "exception": false,
     "start_time": "2023-03-28T04:49:02.610966",
     "status": "completed"
    },
    "tags": []
   },
   "outputs": [
    {
     "name": "stdout",
     "output_type": "stream",
     "text": [
      "<class 'pandas.core.frame.DataFrame'>\n",
      "RangeIndex: 1025 entries, 0 to 1024\n",
      "Data columns (total 14 columns):\n",
      " #   Column    Non-Null Count  Dtype  \n",
      "---  ------    --------------  -----  \n",
      " 0   age       1025 non-null   int64  \n",
      " 1   sex       1025 non-null   int64  \n",
      " 2   cp        1025 non-null   int64  \n",
      " 3   trestbps  1025 non-null   int64  \n",
      " 4   chol      1025 non-null   int64  \n",
      " 5   fbs       1025 non-null   int64  \n",
      " 6   restecg   1025 non-null   int64  \n",
      " 7   thalach   1025 non-null   int64  \n",
      " 8   exang     1025 non-null   int64  \n",
      " 9   oldpeak   1025 non-null   float64\n",
      " 10  slope     1025 non-null   int64  \n",
      " 11  ca        1025 non-null   int64  \n",
      " 12  thal      1025 non-null   int64  \n",
      " 13  target    1025 non-null   int64  \n",
      "dtypes: float64(1), int64(13)\n",
      "memory usage: 112.2 KB\n"
     ]
    }
   ],
   "source": [
    "data.info()"
   ]
  },
  {
   "cell_type": "code",
   "execution_count": 5,
   "id": "f705f1c3",
   "metadata": {
    "execution": {
     "iopub.execute_input": "2023-03-28T04:49:02.668195Z",
     "iopub.status.busy": "2023-03-28T04:49:02.667478Z",
     "iopub.status.idle": "2023-03-28T04:49:02.680208Z",
     "shell.execute_reply": "2023-03-28T04:49:02.678574Z"
    },
    "papermill": {
     "duration": 0.023385,
     "end_time": "2023-03-28T04:49:02.683302",
     "exception": false,
     "start_time": "2023-03-28T04:49:02.659917",
     "status": "completed"
    },
    "tags": []
   },
   "outputs": [
    {
     "data": {
      "text/plain": [
       "age         0\n",
       "sex         0\n",
       "cp          0\n",
       "trestbps    0\n",
       "chol        0\n",
       "fbs         0\n",
       "restecg     0\n",
       "thalach     0\n",
       "exang       0\n",
       "oldpeak     0\n",
       "slope       0\n",
       "ca          0\n",
       "thal        0\n",
       "target      0\n",
       "dtype: int64"
      ]
     },
     "execution_count": 5,
     "metadata": {},
     "output_type": "execute_result"
    }
   ],
   "source": [
    "data.isnull().sum()"
   ]
  },
  {
   "cell_type": "code",
   "execution_count": 6,
   "id": "2ffae342",
   "metadata": {
    "execution": {
     "iopub.execute_input": "2023-03-28T04:49:02.697925Z",
     "iopub.status.busy": "2023-03-28T04:49:02.697485Z",
     "iopub.status.idle": "2023-03-28T04:49:02.711460Z",
     "shell.execute_reply": "2023-03-28T04:49:02.709124Z"
    },
    "papermill": {
     "duration": 0.026872,
     "end_time": "2023-03-28T04:49:02.716161",
     "exception": false,
     "start_time": "2023-03-28T04:49:02.689289",
     "status": "completed"
    },
    "tags": []
   },
   "outputs": [
    {
     "name": "stdout",
     "output_type": "stream",
     "text": [
      "Number of age outliers: 0\n"
     ]
    }
   ],
   "source": [
    "# Define a function to detect outliers using the z-score method\n",
    "def detect_outliers_zscore(data, threshold=3):\n",
    "    \"\"\"\n",
    "    Detect outliers in a pandas dataframe using the z-score method.\n",
    "    \"\"\"\n",
    "    z_scores = np.abs((data - data.mean()) / data.std())\n",
    "    return z_scores > threshold\n",
    "\n",
    "# Apply the outlier detection function to the age column\n",
    "outliers_age = detect_outliers_zscore(data['age'])\n",
    "\n",
    "# Print the number of outliers detected\n",
    "print(f\"Number of age outliers: {outliers_age.sum()}\")\n"
   ]
  },
  {
   "cell_type": "code",
   "execution_count": 7,
   "id": "90a53d71",
   "metadata": {
    "execution": {
     "iopub.execute_input": "2023-03-28T04:49:02.730759Z",
     "iopub.status.busy": "2023-03-28T04:49:02.730305Z",
     "iopub.status.idle": "2023-03-28T04:49:02.738101Z",
     "shell.execute_reply": "2023-03-28T04:49:02.735853Z"
    },
    "papermill": {
     "duration": 0.019754,
     "end_time": "2023-03-28T04:49:02.741978",
     "exception": false,
     "start_time": "2023-03-28T04:49:02.722224",
     "status": "completed"
    },
    "tags": []
   },
   "outputs": [],
   "source": [
    "import matplotlib.pyplot as plt"
   ]
  },
  {
   "cell_type": "code",
   "execution_count": 8,
   "id": "fba0f3cb",
   "metadata": {
    "execution": {
     "iopub.execute_input": "2023-03-28T04:49:02.755422Z",
     "iopub.status.busy": "2023-03-28T04:49:02.754959Z",
     "iopub.status.idle": "2023-03-28T04:49:02.985559Z",
     "shell.execute_reply": "2023-03-28T04:49:02.984123Z"
    },
    "papermill": {
     "duration": 0.24089,
     "end_time": "2023-03-28T04:49:02.988510",
     "exception": false,
     "start_time": "2023-03-28T04:49:02.747620",
     "status": "completed"
    },
    "tags": []
   },
   "outputs": [
    {
     "data": {
      "image/png": "[encoded data removed]",
      "text/plain": [
       "<Figure size 640x480 with 1 Axes>"
      ]
     },
     "metadata": {},
     "output_type": "display_data"
    }
   ],
   "source": [
    "# Create a boxplot of the \"Age\" column\n",
    "plt.boxplot(data['age'])\n",
    "plt.title('Boxplot of Age')\n",
    "plt.ylabel('Age')\n",
    "plt.show()"
   ]
  },
  {
   "cell_type": "code",
   "execution_count": 9,
   "id": "fdd8a2be",
   "metadata": {
    "execution": {
     "iopub.execute_input": "2023-03-28T04:49:03.002257Z",
     "iopub.status.busy": "2023-03-28T04:49:03.001804Z",
     "iopub.status.idle": "2023-03-28T04:49:03.010696Z",
     "shell.execute_reply": "2023-03-28T04:49:03.009391Z"
    },
    "papermill": {
     "duration": 0.019408,
     "end_time": "2023-03-28T04:49:03.013827",
     "exception": false,
     "start_time": "2023-03-28T04:49:02.994419",
     "status": "completed"
    },
    "tags": []
   },
   "outputs": [
    {
     "name": "stdout",
     "output_type": "stream",
     "text": [
      "Number of age outliers: 13\n"
     ]
    }
   ],
   "source": [
    "# Apply the outlier detection function to the age column\n",
    "outliers_chol = detect_outliers_zscore(data['chol'])\n",
    "\n",
    "# Print the number of outliers detected\n",
    "print(f\"Number of age outliers: {outliers_chol.sum()}\")"
   ]
  },
  {
   "cell_type": "code",
   "execution_count": 10,
   "id": "65bd797f",
   "metadata": {
    "execution": {
     "iopub.execute_input": "2023-03-28T04:49:03.027929Z",
     "iopub.status.busy": "2023-03-28T04:49:03.027512Z",
     "iopub.status.idle": "2023-03-28T04:49:03.214815Z",
     "shell.execute_reply": "2023-03-28T04:49:03.213484Z"
    },
    "papermill": {
     "duration": 0.198049,
     "end_time": "2023-03-28T04:49:03.217660",
     "exception": false,
     "start_time": "2023-03-28T04:49:03.019611",
     "status": "completed"
    },
    "tags": []
   },
   "outputs": [
    {
     "data": {
      "image/png": "[encoded data removed]",
      "text/plain": [
       "<Figure size 640x480 with 1 Axes>"
      ]
     },
     "metadata": {},
     "output_type": "display_data"
    }
   ],
   "source": [
    "# Create a boxplot of the \"Age\" column\n",
    "plt.boxplot(data['chol'])\n",
    "plt.title('Boxplot of Cholesterol')\n",
    "plt.ylabel('Cholesterol')\n",
    "plt.show()"
   ]
  },
  {
   "cell_type": "code",
   "execution_count": 11,
   "id": "921f5361",
   "metadata": {
    "execution": {
     "iopub.execute_input": "2023-03-28T04:49:03.232711Z",
     "iopub.status.busy": "2023-03-28T04:49:03.232268Z",
     "iopub.status.idle": "2023-03-28T04:49:03.242682Z",
     "shell.execute_reply": "2023-03-28T04:49:03.240557Z"
    },
    "papermill": {
     "duration": 0.021923,
     "end_time": "2023-03-28T04:49:03.246288",
     "exception": false,
     "start_time": "2023-03-28T04:49:03.224365",
     "status": "completed"
    },
    "tags": []
   },
   "outputs": [
    {
     "name": "stdout",
     "output_type": "stream",
     "text": [
      "Number of age outliers: 7\n"
     ]
    }
   ],
   "source": [
    "# Apply the outlier detection function to the age column\n",
    "outliers_restbp = detect_outliers_zscore(data['trestbps'])\n",
    "\n",
    "# Print the number of outliers detected\n",
    "print(f\"Number of age outliers: {outliers_restbp.sum()}\")"
   ]
  },
  {
   "cell_type": "code",
   "execution_count": 12,
   "id": "50a433c9",
   "metadata": {
    "execution": {
     "iopub.execute_input": "2023-03-28T04:49:03.264102Z",
     "iopub.status.busy": "2023-03-28T04:49:03.263595Z",
     "iopub.status.idle": "2023-03-28T04:49:03.464605Z",
     "shell.execute_reply": "2023-03-28T04:49:03.463373Z"
    },
    "papermill": {
     "duration": 0.214542,
     "end_time": "2023-03-28T04:49:03.468172",
     "exception": false,
     "start_time": "2023-03-28T04:49:03.253630",
     "status": "completed"
    },
    "tags": []
   },
   "outputs": [
    {
     "data": {
      "image/png": "[encoded data removed]",
      "text/plain": [
       "<Figure size 640x480 with 1 Axes>"
      ]
     },
     "metadata": {},
     "output_type": "display_data"
    }
   ],
   "source": [
    "# Create a boxplot of the \"resting BP\" column\n",
    "plt.boxplot(data['trestbps'])\n",
    "plt.title('Boxplot of Resting Blood Pressure')\n",
    "plt.ylabel('Resting Blood Pressure')\n",
    "plt.show()"
   ]
  },
  {
   "cell_type": "code",
   "execution_count": null,
   "id": "64f375d5",
   "metadata": {
    "papermill": {
     "duration": 0.006467,
     "end_time": "2023-03-28T04:49:03.481881",
     "exception": false,
     "start_time": "2023-03-28T04:49:03.475414",
     "status": "completed"
    },
    "tags": []
   },
   "outputs": [],
   "source": []
  }
 ],
 "metadata": {
  "kernelspec": {
   "display_name": "Python 3",
   "language": "python",
   "name": "python3"
  },
  "language_info": {
   "codemirror_mode": {
    "name": "ipython",
    "version": 3
   },
   "file_extension": ".py",
   "mimetype": "text/x-python",
   "name": "python",
   "nbconvert_exporter": "python",
   "pygments_lexer": "ipython3",
   "version": "3.7.12"
  },
  "papermill": {
   "default_parameters": {},
   "duration": 13.842763,
   "end_time": "2023-03-28T04:49:04.212326",
   "environment_variables": {},
   "exception": null,
   "input_path": "__notebook__.ipynb",
   "output_path": "__notebook__.ipynb",
   "parameters": {},
   "start_time": "2023-03-28T04:48:50.369563",
   "version": "2.4.0"
  }
 },
 "nbformat": 4,
 "nbformat_minor": 5
}
